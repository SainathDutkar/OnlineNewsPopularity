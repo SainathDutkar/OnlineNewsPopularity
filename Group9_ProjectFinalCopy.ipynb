{
 "cells": [
  {
   "cell_type": "markdown",
   "metadata": {},
   "source": [
    "\n",
    "##                                  DATA MINING AND ANALYTICS FOR MANAGERS             \n",
    "##                                                         MGMT63582"
   ]
  },
  {
   "cell_type": "markdown",
   "metadata": {},
   "source": [
    "### Group 9\n",
    "### SAINATH DUTKAR (sgd23)\n",
    "### AQSA SHEIKH (ars92)\n",
    "### SOWMYA NELLORE (sn478)"
   ]
  },
  {
   "cell_type": "markdown",
   "metadata": {},
   "source": [
    " ## Project Title : ONLINE NEWS POPULARITY "
   ]
  },
  {
   "cell_type": "markdown",
   "metadata": {},
   "source": [
    " \n",
    "## ABSTRACT:\n",
    "There are numerous amount of news that are produced all over the internet from the media and individuals posted for reader’s eyes. We read numerous kinds of news on regular basis in view of our interest and news fame not only through the news blogs but also through the social media which is a popular way to share news and interesting articles.Notwithstanding, we never inquired about the genuine elements which makes those news well known and to share more.  Identifying an article that may become popular can be useful strategy and financial interest to websites. For example the most likely viewed article can be set on top of the homepage so as to increase revenue and traffic to the website.The purpose of this paper is to make a prediction of the popularity of online news and to predict how popular a given article is. "
   ]
  },
  {
   "cell_type": "markdown",
   "metadata": {},
   "source": [
    "## INTRODUCTION\n",
    "Data mining provides us with various methods and very useful tools to extract knowledge from a complex data set. In this project we aim to use these tools to analyse and gain knowledge from the “Online News Popularity data set”, which contains valuable data that helps news companies make decisions regarding the design of the articles that are to be published.In this paper Information theory and domain knowledge are used to choose minimum attributes to reduce complexity. These attributes are used analyse the credit data using predictive modelling techniques (classification,regression)-linear regression,SVM and decision trees implemented using ipython jupiter notebook.Prior to building the model, the dataset is pre-processed, reduced and made ready to provide efficient predictions. The final model is used for prediction with the test dataset and the evaluation results prove the efficiency of the built model.\n",
    "\n",
    "Data mining is a way of finding patterns in expansive data sets including techniques at the convergence of machine learning, database and statistics. It is a basic procedure where keen strategies are connected to extract data patterns. In brief the general objective of the data mining process is to extract data from a data  set and change it into a reasonable structure for additional use. Finding an accurate outcomes, however, requires an insightful determination of information mining tools, strategies as well as procedures that are suitable for the business, organization to get the desired result. Data mining is a new and demanding field for the present age  as a result of its extensive applications. For the most part of saying, it has an pulled in a lot of consideration in the data business and in the public eye, due to the wide accessibility of large amount of data and the unavoidable requirement for transforming such data into valuable data and learning.\n",
    "\n",
    "This paper describes the techniques we use to analyze “Online News Popularity Data Set” which contains valuable data that help news companies make decisions. This paper uses the components of Cross-Industry Standard Process for Data Mining (CRISP-DM) methodology, including Business Understanding, Data Understanding, Data Preparation, Model Building Based on Neural Network and decision trees, Testing and Evaluation and, Deployment to analyse the data set.\n",
    "\n"
   ]
  },
  {
   "cell_type": "markdown",
   "metadata": {},
   "source": [
    "\n",
    "## BUSINESS UNDERSANDING\n",
    "\n",
    "The aim of the project is to analyse the Online News Popularity data set and create a predictive model based on supervised learning. The model is used to help the news organisations identify an article that may become popular which can be an useful strategy and financial interest to websites.For instance, examining the effect of components like number of pictures, recordings, news released per day, news area, news subjectivity, popularity, can help the news distributing organization to change their news covering technique to fulfill their customer and to attract more customers. "
   ]
  },
  {
   "cell_type": "code",
   "execution_count": 1,
   "metadata": {},
   "outputs": [
    {
     "name": "stderr",
     "output_type": "stream",
     "text": [
      "C:\\Users\\COM\\Anaconda3\\lib\\site-packages\\sklearn\\cross_validation.py:41: DeprecationWarning: This module was deprecated in version 0.18 in favor of the model_selection module into which all the refactored classes and functions are moved. Also note that the interface of the new CV iterators are different from that of this module. This module will be removed in 0.20.\n",
      "  \"This module will be removed in 0.20.\", DeprecationWarning)\n"
     ]
    }
   ],
   "source": [
    "#All the basic libraries- pandas, sklearn, matplotlib required for the analysis of the dataset are loaded into the notebook.\n",
    "import pandas as pd\n",
    "import numpy as np\n",
    "from sklearn.metrics import accuracy_score\n",
    "from sklearn.model_selection import train_test_split\n",
    "from sklearn.tree import DecisionTreeClassifier\n",
    "from sklearn.feature_selection import RFE\n",
    "from sklearn.linear_model import LinearRegression\n",
    "from sklearn.metrics import confusion_matrix\n",
    "import matplotlib.pyplot as plt\n",
    "\n",
    "from sklearn import cross_validation"
   ]
  },
  {
   "cell_type": "markdown",
   "metadata": {},
   "source": [
    "## DATA UNDERSTANDING\n",
    "\n",
    "The dataset is taken from UCI Machine learning repository (link: https://archive.ics.uci.edu/ml/datasets/online+news+popularity). The dataset was published by Mashable (www.mashable.com) and the acquisition date was on January 8,2015.\n",
    "\n",
    "Attribute Information:\n",
    "     0. url:                           URL of the article\n",
    "     1. timedelta:                     Days between the article publication and\n",
    "                                       the dataset acquisition\n",
    "     2. n_tokens_title:                Number of words in the title\n",
    "     3. n_tokens_content:              Number of words in the content\n",
    "     4. n_unique_tokens:               Rate of unique words in the content\n",
    "     5. n_non_stop_words:              Rate of non-stop words in the content\n",
    "     6. n_non_stop_unique_tokens:      Rate of unique non-stop words in the\n",
    "                                       content\n",
    "     7. num_hrefs:                     Number of links\n",
    "     8. num_self_hrefs:                Number of links to other articles\n",
    "                                       published by Mashable\n",
    "     9. num_imgs:                      Number of images\n",
    "    10. num_videos:                    Number of videos\n",
    "    11. average_token_length:          Average length of the words in the\n",
    "                                       content\n",
    "    12. num_keywords:                  Number of keywords in the metadata\n",
    "    13. data_channel_is_lifestyle:     Is data channel 'Lifestyle'?\n",
    "    14. data_channel_is_entertainment: Is data channel 'Entertainment'?\n",
    "    15. data_channel_is_bus:           Is data channel 'Business'?\n",
    "    16. data_channel_is_socmed:        Is data channel 'Social Media'?\n",
    "    17. data_channel_is_tech:          Is data channel 'Tech'?\n",
    "    18. data_channel_is_world:         Is data channel 'World'?\n",
    "    19. kw_min_min:                    Worst keyword (min. shares)\n",
    "    20. kw_max_min:                    Worst keyword (max. shares)\n",
    "    21. kw_avg_min:                    Worst keyword (avg. shares)\n",
    "    22. kw_min_max:                    Best keyword (min. shares)\n",
    "    23. kw_max_max:                    Best keyword (max. shares)\n",
    "    24. kw_avg_max:                    Best keyword (avg. shares)\n",
    "    25. kw_min_avg:                    Avg. keyword (min. shares)\n",
    "    26. kw_max_avg:                    Avg. keyword (max. shares)\n",
    "    27. kw_avg_avg:                    Avg. keyword (avg. shares)\n",
    "    28. self_reference_min_shares:     Min. shares of referenced articles in\n",
    "                                       Mashable\n",
    "    29. self_reference_max_shares:     Max. shares of referenced articles in\n",
    "                                       Mashable\n",
    "    30. self_reference_avg_sharess:    Avg. shares of referenced articles in\n",
    "                                       Mashable\n",
    "    31. weekday_is_monday:             Was the article published on a Monday?\n",
    "    32. weekday_is_tuesday:            Was the article published on a Tuesday?\n",
    "    33. weekday_is_wednesday:          Was the article published on a Wednesday?\n",
    "    34. weekday_is_thursday:           Was the article published on a Thursday?\n",
    "    35. weekday_is_friday:             Was the article published on a Friday?\n",
    "    36. weekday_is_saturday:           Was the article published on a Saturday?\n",
    "    37. weekday_is_sunday:             Was the article published on a Sunday?\n",
    "    38. is_weekend:                    Was the article published on the weekend?\n",
    "    39. LDA_00:                        Closeness to LDA topic 0\n",
    "    40. LDA_01:                        Closeness to LDA topic 1\n",
    "    41. LDA_02:                        Closeness to LDA topic 2\n",
    "    42. LDA_03:                        Closeness to LDA topic 3\n",
    "    43. LDA_04:                        Closeness to LDA topic 4\n",
    "    44. global_subjectivity:           Text subjectivity\n",
    "    45. global_sentiment_polarity:     Text sentiment polarity\n",
    "    46. global_rate_positive_words:    Rate of positive words in the content\n",
    "    47. global_rate_negative_words:    Rate of negative words in the content\n",
    "    48. rate_positive_words:           Rate of positive words among non-neutral\n",
    "                                       tokens\n",
    "    49. rate_negative_words:           Rate of negative words among non-neutral\n",
    "                                       tokens\n",
    "    50. avg_positive_polarity:         Avg. polarity of positive words\n",
    "    51. min_positive_polarity:         Min. polarity of positive words\n",
    "    52. max_positive_polarity:         Max. polarity of positive words\n",
    "    53. avg_negative_polarity:         Avg. polarity of negative  words\n",
    "    54. min_negative_polarity:         Min. polarity of negative  words\n",
    "    55. max_negative_polarity:         Max. polarity of negative  words\n",
    "    56. title_subjectivity:            Title subjectivity\n",
    "    57. title_sentiment_polarity:      Title polarity\n",
    "    58. abs_title_subjectivity:        Absolute subjectivity level\n",
    "    59. abs_title_sentiment_polarity:  Absolute polarity level\n",
    "    60. shares:                        Number of shares (target)\n",
    "\n",
    "The dataset contains 61 attributes out of which 58 attributes are predictive, 2 non-predictive attributes and  1 target attribute.The target attribute being the number of shares of that particular article there are various attributes taken into consideration like-number of images, number of videos,unique tokens and so on that are contributing towards the increase in the number of shares.\n",
    "\n",
    "In the below step the dataset is loaded into the book using pandas dataframe. And all the attributes in the dataset are listed. \n"
   ]
  },
  {
   "cell_type": "code",
   "execution_count": 2,
   "metadata": {},
   "outputs": [],
   "source": [
    "#reading the data from CSV file\n",
    "data = pd.read_csv('OnlineNewsPopularity.csv')"
   ]
  },
  {
   "cell_type": "code",
   "execution_count": 3,
   "metadata": {},
   "outputs": [
    {
     "data": {
      "text/plain": [
       "Index(['url', ' timedelta', ' n_tokens_title', ' n_tokens_content',\n",
       "       ' n_unique_tokens', ' n_non_stop_words', ' n_non_stop_unique_tokens',\n",
       "       ' num_hrefs', ' num_self_hrefs', ' num_imgs', ' num_videos',\n",
       "       ' average_token_length', ' num_keywords', ' data_channel_is_lifestyle',\n",
       "       ' data_channel_is_entertainment', ' data_channel_is_bus',\n",
       "       ' data_channel_is_socmed', ' data_channel_is_tech',\n",
       "       ' data_channel_is_world', ' kw_min_min', ' kw_max_min', ' kw_avg_min',\n",
       "       ' kw_min_max', ' kw_max_max', ' kw_avg_max', ' kw_min_avg',\n",
       "       ' kw_max_avg', ' kw_avg_avg', ' self_reference_min_shares',\n",
       "       ' self_reference_max_shares', ' self_reference_avg_sharess',\n",
       "       ' weekday_is_monday', ' weekday_is_tuesday', ' weekday_is_wednesday',\n",
       "       ' weekday_is_thursday', ' weekday_is_friday', ' weekday_is_saturday',\n",
       "       ' weekday_is_sunday', ' is_weekend', ' LDA_00', ' LDA_01', ' LDA_02',\n",
       "       ' LDA_03', ' LDA_04', ' global_subjectivity',\n",
       "       ' global_sentiment_polarity', ' global_rate_positive_words',\n",
       "       ' global_rate_negative_words', ' rate_positive_words',\n",
       "       ' rate_negative_words', ' avg_positive_polarity',\n",
       "       ' min_positive_polarity', ' max_positive_polarity',\n",
       "       ' avg_negative_polarity', ' min_negative_polarity',\n",
       "       ' max_negative_polarity', ' title_subjectivity',\n",
       "       ' title_sentiment_polarity', ' abs_title_subjectivity',\n",
       "       ' abs_title_sentiment_polarity', ' shares'],\n",
       "      dtype='object')"
      ]
     },
     "execution_count": 3,
     "metadata": {},
     "output_type": "execute_result"
    }
   ],
   "source": [
    "#Checking all the columns \n",
    "data.columns"
   ]
  },
  {
   "cell_type": "code",
   "execution_count": 4,
   "metadata": {},
   "outputs": [
    {
     "data": {
      "text/html": [
       "<div>\n",
       "<style scoped>\n",
       "    .dataframe tbody tr th:only-of-type {\n",
       "        vertical-align: middle;\n",
       "    }\n",
       "\n",
       "    .dataframe tbody tr th {\n",
       "        vertical-align: top;\n",
       "    }\n",
       "\n",
       "    .dataframe thead th {\n",
       "        text-align: right;\n",
       "    }\n",
       "</style>\n",
       "<table border=\"1\" class=\"dataframe\">\n",
       "  <thead>\n",
       "    <tr style=\"text-align: right;\">\n",
       "      <th></th>\n",
       "      <th>url</th>\n",
       "      <th>timedelta</th>\n",
       "      <th>n_tokens_title</th>\n",
       "      <th>n_tokens_content</th>\n",
       "      <th>n_unique_tokens</th>\n",
       "      <th>n_non_stop_words</th>\n",
       "      <th>n_non_stop_unique_tokens</th>\n",
       "      <th>num_hrefs</th>\n",
       "      <th>num_self_hrefs</th>\n",
       "      <th>num_imgs</th>\n",
       "      <th>...</th>\n",
       "      <th>min_positive_polarity</th>\n",
       "      <th>max_positive_polarity</th>\n",
       "      <th>avg_negative_polarity</th>\n",
       "      <th>min_negative_polarity</th>\n",
       "      <th>max_negative_polarity</th>\n",
       "      <th>title_subjectivity</th>\n",
       "      <th>title_sentiment_polarity</th>\n",
       "      <th>abs_title_subjectivity</th>\n",
       "      <th>abs_title_sentiment_polarity</th>\n",
       "      <th>shares</th>\n",
       "    </tr>\n",
       "  </thead>\n",
       "  <tbody>\n",
       "    <tr>\n",
       "      <th>0</th>\n",
       "      <td>http://mashable.com/2013/01/07/amazon-instant-...</td>\n",
       "      <td>731.0</td>\n",
       "      <td>12.0</td>\n",
       "      <td>219.0</td>\n",
       "      <td>0.663594</td>\n",
       "      <td>1.0</td>\n",
       "      <td>0.815385</td>\n",
       "      <td>4.0</td>\n",
       "      <td>2.0</td>\n",
       "      <td>1.0</td>\n",
       "      <td>...</td>\n",
       "      <td>0.100000</td>\n",
       "      <td>0.7</td>\n",
       "      <td>-0.350000</td>\n",
       "      <td>-0.600</td>\n",
       "      <td>-0.200000</td>\n",
       "      <td>0.500000</td>\n",
       "      <td>-0.187500</td>\n",
       "      <td>0.000000</td>\n",
       "      <td>0.187500</td>\n",
       "      <td>593</td>\n",
       "    </tr>\n",
       "    <tr>\n",
       "      <th>1</th>\n",
       "      <td>http://mashable.com/2013/01/07/ap-samsung-spon...</td>\n",
       "      <td>731.0</td>\n",
       "      <td>9.0</td>\n",
       "      <td>255.0</td>\n",
       "      <td>0.604743</td>\n",
       "      <td>1.0</td>\n",
       "      <td>0.791946</td>\n",
       "      <td>3.0</td>\n",
       "      <td>1.0</td>\n",
       "      <td>1.0</td>\n",
       "      <td>...</td>\n",
       "      <td>0.033333</td>\n",
       "      <td>0.7</td>\n",
       "      <td>-0.118750</td>\n",
       "      <td>-0.125</td>\n",
       "      <td>-0.100000</td>\n",
       "      <td>0.000000</td>\n",
       "      <td>0.000000</td>\n",
       "      <td>0.500000</td>\n",
       "      <td>0.000000</td>\n",
       "      <td>711</td>\n",
       "    </tr>\n",
       "    <tr>\n",
       "      <th>2</th>\n",
       "      <td>http://mashable.com/2013/01/07/apple-40-billio...</td>\n",
       "      <td>731.0</td>\n",
       "      <td>9.0</td>\n",
       "      <td>211.0</td>\n",
       "      <td>0.575130</td>\n",
       "      <td>1.0</td>\n",
       "      <td>0.663866</td>\n",
       "      <td>3.0</td>\n",
       "      <td>1.0</td>\n",
       "      <td>1.0</td>\n",
       "      <td>...</td>\n",
       "      <td>0.100000</td>\n",
       "      <td>1.0</td>\n",
       "      <td>-0.466667</td>\n",
       "      <td>-0.800</td>\n",
       "      <td>-0.133333</td>\n",
       "      <td>0.000000</td>\n",
       "      <td>0.000000</td>\n",
       "      <td>0.500000</td>\n",
       "      <td>0.000000</td>\n",
       "      <td>1500</td>\n",
       "    </tr>\n",
       "    <tr>\n",
       "      <th>3</th>\n",
       "      <td>http://mashable.com/2013/01/07/astronaut-notre...</td>\n",
       "      <td>731.0</td>\n",
       "      <td>9.0</td>\n",
       "      <td>531.0</td>\n",
       "      <td>0.503788</td>\n",
       "      <td>1.0</td>\n",
       "      <td>0.665635</td>\n",
       "      <td>9.0</td>\n",
       "      <td>0.0</td>\n",
       "      <td>1.0</td>\n",
       "      <td>...</td>\n",
       "      <td>0.136364</td>\n",
       "      <td>0.8</td>\n",
       "      <td>-0.369697</td>\n",
       "      <td>-0.600</td>\n",
       "      <td>-0.166667</td>\n",
       "      <td>0.000000</td>\n",
       "      <td>0.000000</td>\n",
       "      <td>0.500000</td>\n",
       "      <td>0.000000</td>\n",
       "      <td>1200</td>\n",
       "    </tr>\n",
       "    <tr>\n",
       "      <th>4</th>\n",
       "      <td>http://mashable.com/2013/01/07/att-u-verse-apps/</td>\n",
       "      <td>731.0</td>\n",
       "      <td>13.0</td>\n",
       "      <td>1072.0</td>\n",
       "      <td>0.415646</td>\n",
       "      <td>1.0</td>\n",
       "      <td>0.540890</td>\n",
       "      <td>19.0</td>\n",
       "      <td>19.0</td>\n",
       "      <td>20.0</td>\n",
       "      <td>...</td>\n",
       "      <td>0.033333</td>\n",
       "      <td>1.0</td>\n",
       "      <td>-0.220192</td>\n",
       "      <td>-0.500</td>\n",
       "      <td>-0.050000</td>\n",
       "      <td>0.454545</td>\n",
       "      <td>0.136364</td>\n",
       "      <td>0.045455</td>\n",
       "      <td>0.136364</td>\n",
       "      <td>505</td>\n",
       "    </tr>\n",
       "  </tbody>\n",
       "</table>\n",
       "<p>5 rows × 61 columns</p>\n",
       "</div>"
      ],
      "text/plain": [
       "                                                 url   timedelta  \\\n",
       "0  http://mashable.com/2013/01/07/amazon-instant-...       731.0   \n",
       "1  http://mashable.com/2013/01/07/ap-samsung-spon...       731.0   \n",
       "2  http://mashable.com/2013/01/07/apple-40-billio...       731.0   \n",
       "3  http://mashable.com/2013/01/07/astronaut-notre...       731.0   \n",
       "4   http://mashable.com/2013/01/07/att-u-verse-apps/       731.0   \n",
       "\n",
       "    n_tokens_title   n_tokens_content   n_unique_tokens   n_non_stop_words  \\\n",
       "0             12.0              219.0          0.663594                1.0   \n",
       "1              9.0              255.0          0.604743                1.0   \n",
       "2              9.0              211.0          0.575130                1.0   \n",
       "3              9.0              531.0          0.503788                1.0   \n",
       "4             13.0             1072.0          0.415646                1.0   \n",
       "\n",
       "    n_non_stop_unique_tokens   num_hrefs   num_self_hrefs   num_imgs   ...     \\\n",
       "0                   0.815385         4.0              2.0        1.0   ...      \n",
       "1                   0.791946         3.0              1.0        1.0   ...      \n",
       "2                   0.663866         3.0              1.0        1.0   ...      \n",
       "3                   0.665635         9.0              0.0        1.0   ...      \n",
       "4                   0.540890        19.0             19.0       20.0   ...      \n",
       "\n",
       "    min_positive_polarity   max_positive_polarity   avg_negative_polarity  \\\n",
       "0                0.100000                     0.7               -0.350000   \n",
       "1                0.033333                     0.7               -0.118750   \n",
       "2                0.100000                     1.0               -0.466667   \n",
       "3                0.136364                     0.8               -0.369697   \n",
       "4                0.033333                     1.0               -0.220192   \n",
       "\n",
       "    min_negative_polarity   max_negative_polarity   title_subjectivity  \\\n",
       "0                  -0.600               -0.200000             0.500000   \n",
       "1                  -0.125               -0.100000             0.000000   \n",
       "2                  -0.800               -0.133333             0.000000   \n",
       "3                  -0.600               -0.166667             0.000000   \n",
       "4                  -0.500               -0.050000             0.454545   \n",
       "\n",
       "    title_sentiment_polarity   abs_title_subjectivity  \\\n",
       "0                  -0.187500                 0.000000   \n",
       "1                   0.000000                 0.500000   \n",
       "2                   0.000000                 0.500000   \n",
       "3                   0.000000                 0.500000   \n",
       "4                   0.136364                 0.045455   \n",
       "\n",
       "    abs_title_sentiment_polarity   shares  \n",
       "0                       0.187500      593  \n",
       "1                       0.000000      711  \n",
       "2                       0.000000     1500  \n",
       "3                       0.000000     1200  \n",
       "4                       0.136364      505  \n",
       "\n",
       "[5 rows x 61 columns]"
      ]
     },
     "execution_count": 4,
     "metadata": {},
     "output_type": "execute_result"
    }
   ],
   "source": [
    "data.head(5)"
   ]
  },
  {
   "cell_type": "code",
   "execution_count": 5,
   "metadata": {},
   "outputs": [
    {
     "data": {
      "text/plain": [
       "(39644, 61)"
      ]
     },
     "execution_count": 5,
     "metadata": {},
     "output_type": "execute_result"
    }
   ],
   "source": [
    "data.shape"
   ]
  },
  {
   "cell_type": "markdown",
   "metadata": {},
   "source": [
    "## DATA PREPARATION:\n",
    "Data preparation is one of the important steps in data mining.The data used for this project is firstly checked foe any null values and the data is checked for any noisy variables.The target variable is defined as a continous variable int the dataset, the target is transformed into categorical to fit the classification models used for analysis.The attributes are selected on the basis of domain knowledge and the recursive feature elimination(RFE) model provided by thr sklearnn library.\n",
    "\n",
    "The problem of data leakage is handled by using the practices that are used to minimize data leakage when developing predictive models.The data is split into two training and validation data and the data is preapared using cross validation folds "
   ]
  },
  {
   "cell_type": "code",
   "execution_count": 6,
   "metadata": {},
   "outputs": [
    {
     "data": {
      "text/html": [
       "<div>\n",
       "<style scoped>\n",
       "    .dataframe tbody tr th:only-of-type {\n",
       "        vertical-align: middle;\n",
       "    }\n",
       "\n",
       "    .dataframe tbody tr th {\n",
       "        vertical-align: top;\n",
       "    }\n",
       "\n",
       "    .dataframe thead th {\n",
       "        text-align: right;\n",
       "    }\n",
       "</style>\n",
       "<table border=\"1\" class=\"dataframe\">\n",
       "  <thead>\n",
       "    <tr style=\"text-align: right;\">\n",
       "      <th></th>\n",
       "      <th>timedelta</th>\n",
       "      <th>n_tokens_title</th>\n",
       "      <th>n_tokens_content</th>\n",
       "      <th>n_unique_tokens</th>\n",
       "      <th>n_non_stop_words</th>\n",
       "      <th>n_non_stop_unique_tokens</th>\n",
       "      <th>num_hrefs</th>\n",
       "      <th>num_self_hrefs</th>\n",
       "      <th>num_imgs</th>\n",
       "      <th>num_videos</th>\n",
       "      <th>...</th>\n",
       "      <th>min_positive_polarity</th>\n",
       "      <th>max_positive_polarity</th>\n",
       "      <th>avg_negative_polarity</th>\n",
       "      <th>min_negative_polarity</th>\n",
       "      <th>max_negative_polarity</th>\n",
       "      <th>title_subjectivity</th>\n",
       "      <th>title_sentiment_polarity</th>\n",
       "      <th>abs_title_subjectivity</th>\n",
       "      <th>abs_title_sentiment_polarity</th>\n",
       "      <th>shares</th>\n",
       "    </tr>\n",
       "  </thead>\n",
       "  <tbody>\n",
       "    <tr>\n",
       "      <th>count</th>\n",
       "      <td>39644.000000</td>\n",
       "      <td>39644.000000</td>\n",
       "      <td>39644.000000</td>\n",
       "      <td>39644.000000</td>\n",
       "      <td>39644.000000</td>\n",
       "      <td>39644.000000</td>\n",
       "      <td>39644.000000</td>\n",
       "      <td>39644.000000</td>\n",
       "      <td>39644.000000</td>\n",
       "      <td>39644.000000</td>\n",
       "      <td>...</td>\n",
       "      <td>39644.000000</td>\n",
       "      <td>39644.000000</td>\n",
       "      <td>39644.000000</td>\n",
       "      <td>39644.000000</td>\n",
       "      <td>39644.000000</td>\n",
       "      <td>39644.000000</td>\n",
       "      <td>39644.000000</td>\n",
       "      <td>39644.000000</td>\n",
       "      <td>39644.000000</td>\n",
       "      <td>39644.000000</td>\n",
       "    </tr>\n",
       "    <tr>\n",
       "      <th>mean</th>\n",
       "      <td>354.530471</td>\n",
       "      <td>10.398749</td>\n",
       "      <td>546.514731</td>\n",
       "      <td>0.548216</td>\n",
       "      <td>0.996469</td>\n",
       "      <td>0.689175</td>\n",
       "      <td>10.883690</td>\n",
       "      <td>3.293638</td>\n",
       "      <td>4.544143</td>\n",
       "      <td>1.249874</td>\n",
       "      <td>...</td>\n",
       "      <td>0.095446</td>\n",
       "      <td>0.756728</td>\n",
       "      <td>-0.259524</td>\n",
       "      <td>-0.521944</td>\n",
       "      <td>-0.107500</td>\n",
       "      <td>0.282353</td>\n",
       "      <td>0.071425</td>\n",
       "      <td>0.341843</td>\n",
       "      <td>0.156064</td>\n",
       "      <td>3395.380184</td>\n",
       "    </tr>\n",
       "    <tr>\n",
       "      <th>std</th>\n",
       "      <td>214.163767</td>\n",
       "      <td>2.114037</td>\n",
       "      <td>471.107508</td>\n",
       "      <td>3.520708</td>\n",
       "      <td>5.231231</td>\n",
       "      <td>3.264816</td>\n",
       "      <td>11.332017</td>\n",
       "      <td>3.855141</td>\n",
       "      <td>8.309434</td>\n",
       "      <td>4.107855</td>\n",
       "      <td>...</td>\n",
       "      <td>0.071315</td>\n",
       "      <td>0.247786</td>\n",
       "      <td>0.127726</td>\n",
       "      <td>0.290290</td>\n",
       "      <td>0.095373</td>\n",
       "      <td>0.324247</td>\n",
       "      <td>0.265450</td>\n",
       "      <td>0.188791</td>\n",
       "      <td>0.226294</td>\n",
       "      <td>11626.950749</td>\n",
       "    </tr>\n",
       "    <tr>\n",
       "      <th>min</th>\n",
       "      <td>8.000000</td>\n",
       "      <td>2.000000</td>\n",
       "      <td>0.000000</td>\n",
       "      <td>0.000000</td>\n",
       "      <td>0.000000</td>\n",
       "      <td>0.000000</td>\n",
       "      <td>0.000000</td>\n",
       "      <td>0.000000</td>\n",
       "      <td>0.000000</td>\n",
       "      <td>0.000000</td>\n",
       "      <td>...</td>\n",
       "      <td>0.000000</td>\n",
       "      <td>0.000000</td>\n",
       "      <td>-1.000000</td>\n",
       "      <td>-1.000000</td>\n",
       "      <td>-1.000000</td>\n",
       "      <td>0.000000</td>\n",
       "      <td>-1.000000</td>\n",
       "      <td>0.000000</td>\n",
       "      <td>0.000000</td>\n",
       "      <td>1.000000</td>\n",
       "    </tr>\n",
       "    <tr>\n",
       "      <th>25%</th>\n",
       "      <td>164.000000</td>\n",
       "      <td>9.000000</td>\n",
       "      <td>246.000000</td>\n",
       "      <td>0.470870</td>\n",
       "      <td>1.000000</td>\n",
       "      <td>0.625739</td>\n",
       "      <td>4.000000</td>\n",
       "      <td>1.000000</td>\n",
       "      <td>1.000000</td>\n",
       "      <td>0.000000</td>\n",
       "      <td>...</td>\n",
       "      <td>0.050000</td>\n",
       "      <td>0.600000</td>\n",
       "      <td>-0.328383</td>\n",
       "      <td>-0.700000</td>\n",
       "      <td>-0.125000</td>\n",
       "      <td>0.000000</td>\n",
       "      <td>0.000000</td>\n",
       "      <td>0.166667</td>\n",
       "      <td>0.000000</td>\n",
       "      <td>946.000000</td>\n",
       "    </tr>\n",
       "    <tr>\n",
       "      <th>50%</th>\n",
       "      <td>339.000000</td>\n",
       "      <td>10.000000</td>\n",
       "      <td>409.000000</td>\n",
       "      <td>0.539226</td>\n",
       "      <td>1.000000</td>\n",
       "      <td>0.690476</td>\n",
       "      <td>8.000000</td>\n",
       "      <td>3.000000</td>\n",
       "      <td>1.000000</td>\n",
       "      <td>0.000000</td>\n",
       "      <td>...</td>\n",
       "      <td>0.100000</td>\n",
       "      <td>0.800000</td>\n",
       "      <td>-0.253333</td>\n",
       "      <td>-0.500000</td>\n",
       "      <td>-0.100000</td>\n",
       "      <td>0.150000</td>\n",
       "      <td>0.000000</td>\n",
       "      <td>0.500000</td>\n",
       "      <td>0.000000</td>\n",
       "      <td>1400.000000</td>\n",
       "    </tr>\n",
       "    <tr>\n",
       "      <th>75%</th>\n",
       "      <td>542.000000</td>\n",
       "      <td>12.000000</td>\n",
       "      <td>716.000000</td>\n",
       "      <td>0.608696</td>\n",
       "      <td>1.000000</td>\n",
       "      <td>0.754630</td>\n",
       "      <td>14.000000</td>\n",
       "      <td>4.000000</td>\n",
       "      <td>4.000000</td>\n",
       "      <td>1.000000</td>\n",
       "      <td>...</td>\n",
       "      <td>0.100000</td>\n",
       "      <td>1.000000</td>\n",
       "      <td>-0.186905</td>\n",
       "      <td>-0.300000</td>\n",
       "      <td>-0.050000</td>\n",
       "      <td>0.500000</td>\n",
       "      <td>0.150000</td>\n",
       "      <td>0.500000</td>\n",
       "      <td>0.250000</td>\n",
       "      <td>2800.000000</td>\n",
       "    </tr>\n",
       "    <tr>\n",
       "      <th>max</th>\n",
       "      <td>731.000000</td>\n",
       "      <td>23.000000</td>\n",
       "      <td>8474.000000</td>\n",
       "      <td>701.000000</td>\n",
       "      <td>1042.000000</td>\n",
       "      <td>650.000000</td>\n",
       "      <td>304.000000</td>\n",
       "      <td>116.000000</td>\n",
       "      <td>128.000000</td>\n",
       "      <td>91.000000</td>\n",
       "      <td>...</td>\n",
       "      <td>1.000000</td>\n",
       "      <td>1.000000</td>\n",
       "      <td>0.000000</td>\n",
       "      <td>0.000000</td>\n",
       "      <td>0.000000</td>\n",
       "      <td>1.000000</td>\n",
       "      <td>1.000000</td>\n",
       "      <td>0.500000</td>\n",
       "      <td>1.000000</td>\n",
       "      <td>843300.000000</td>\n",
       "    </tr>\n",
       "  </tbody>\n",
       "</table>\n",
       "<p>8 rows × 60 columns</p>\n",
       "</div>"
      ],
      "text/plain": [
       "          timedelta   n_tokens_title   n_tokens_content   n_unique_tokens  \\\n",
       "count  39644.000000     39644.000000       39644.000000      39644.000000   \n",
       "mean     354.530471        10.398749         546.514731          0.548216   \n",
       "std      214.163767         2.114037         471.107508          3.520708   \n",
       "min        8.000000         2.000000           0.000000          0.000000   \n",
       "25%      164.000000         9.000000         246.000000          0.470870   \n",
       "50%      339.000000        10.000000         409.000000          0.539226   \n",
       "75%      542.000000        12.000000         716.000000          0.608696   \n",
       "max      731.000000        23.000000        8474.000000        701.000000   \n",
       "\n",
       "        n_non_stop_words   n_non_stop_unique_tokens     num_hrefs  \\\n",
       "count       39644.000000               39644.000000  39644.000000   \n",
       "mean            0.996469                   0.689175     10.883690   \n",
       "std             5.231231                   3.264816     11.332017   \n",
       "min             0.000000                   0.000000      0.000000   \n",
       "25%             1.000000                   0.625739      4.000000   \n",
       "50%             1.000000                   0.690476      8.000000   \n",
       "75%             1.000000                   0.754630     14.000000   \n",
       "max          1042.000000                 650.000000    304.000000   \n",
       "\n",
       "        num_self_hrefs      num_imgs    num_videos      ...        \\\n",
       "count     39644.000000  39644.000000  39644.000000      ...         \n",
       "mean          3.293638      4.544143      1.249874      ...         \n",
       "std           3.855141      8.309434      4.107855      ...         \n",
       "min           0.000000      0.000000      0.000000      ...         \n",
       "25%           1.000000      1.000000      0.000000      ...         \n",
       "50%           3.000000      1.000000      0.000000      ...         \n",
       "75%           4.000000      4.000000      1.000000      ...         \n",
       "max         116.000000    128.000000     91.000000      ...         \n",
       "\n",
       "        min_positive_polarity   max_positive_polarity   avg_negative_polarity  \\\n",
       "count            39644.000000            39644.000000            39644.000000   \n",
       "mean                 0.095446                0.756728               -0.259524   \n",
       "std                  0.071315                0.247786                0.127726   \n",
       "min                  0.000000                0.000000               -1.000000   \n",
       "25%                  0.050000                0.600000               -0.328383   \n",
       "50%                  0.100000                0.800000               -0.253333   \n",
       "75%                  0.100000                1.000000               -0.186905   \n",
       "max                  1.000000                1.000000                0.000000   \n",
       "\n",
       "        min_negative_polarity   max_negative_polarity   title_subjectivity  \\\n",
       "count            39644.000000            39644.000000         39644.000000   \n",
       "mean                -0.521944               -0.107500             0.282353   \n",
       "std                  0.290290                0.095373             0.324247   \n",
       "min                 -1.000000               -1.000000             0.000000   \n",
       "25%                 -0.700000               -0.125000             0.000000   \n",
       "50%                 -0.500000               -0.100000             0.150000   \n",
       "75%                 -0.300000               -0.050000             0.500000   \n",
       "max                  0.000000                0.000000             1.000000   \n",
       "\n",
       "        title_sentiment_polarity   abs_title_subjectivity  \\\n",
       "count               39644.000000             39644.000000   \n",
       "mean                    0.071425                 0.341843   \n",
       "std                     0.265450                 0.188791   \n",
       "min                    -1.000000                 0.000000   \n",
       "25%                     0.000000                 0.166667   \n",
       "50%                     0.000000                 0.500000   \n",
       "75%                     0.150000                 0.500000   \n",
       "max                     1.000000                 0.500000   \n",
       "\n",
       "        abs_title_sentiment_polarity         shares  \n",
       "count                   39644.000000   39644.000000  \n",
       "mean                        0.156064    3395.380184  \n",
       "std                         0.226294   11626.950749  \n",
       "min                         0.000000       1.000000  \n",
       "25%                         0.000000     946.000000  \n",
       "50%                         0.000000    1400.000000  \n",
       "75%                         0.250000    2800.000000  \n",
       "max                         1.000000  843300.000000  \n",
       "\n",
       "[8 rows x 60 columns]"
      ]
     },
     "execution_count": 6,
     "metadata": {},
     "output_type": "execute_result"
    }
   ],
   "source": [
    "data.describe()"
   ]
  },
  {
   "cell_type": "code",
   "execution_count": 7,
   "metadata": {},
   "outputs": [
    {
     "data": {
      "text/plain": [
       "url                               False\n",
       " timedelta                        False\n",
       " n_tokens_title                   False\n",
       " n_tokens_content                 False\n",
       " n_unique_tokens                  False\n",
       " n_non_stop_words                 False\n",
       " n_non_stop_unique_tokens         False\n",
       " num_hrefs                        False\n",
       " num_self_hrefs                   False\n",
       " num_imgs                         False\n",
       " num_videos                       False\n",
       " average_token_length             False\n",
       " num_keywords                     False\n",
       " data_channel_is_lifestyle        False\n",
       " data_channel_is_entertainment    False\n",
       " data_channel_is_bus              False\n",
       " data_channel_is_socmed           False\n",
       " data_channel_is_tech             False\n",
       " data_channel_is_world            False\n",
       " kw_min_min                       False\n",
       " kw_max_min                       False\n",
       " kw_avg_min                       False\n",
       " kw_min_max                       False\n",
       " kw_max_max                       False\n",
       " kw_avg_max                       False\n",
       " kw_min_avg                       False\n",
       " kw_max_avg                       False\n",
       " kw_avg_avg                       False\n",
       " self_reference_min_shares        False\n",
       " self_reference_max_shares        False\n",
       "                                  ...  \n",
       " weekday_is_monday                False\n",
       " weekday_is_tuesday               False\n",
       " weekday_is_wednesday             False\n",
       " weekday_is_thursday              False\n",
       " weekday_is_friday                False\n",
       " weekday_is_saturday              False\n",
       " weekday_is_sunday                False\n",
       " is_weekend                       False\n",
       " LDA_00                           False\n",
       " LDA_01                           False\n",
       " LDA_02                           False\n",
       " LDA_03                           False\n",
       " LDA_04                           False\n",
       " global_subjectivity              False\n",
       " global_sentiment_polarity        False\n",
       " global_rate_positive_words       False\n",
       " global_rate_negative_words       False\n",
       " rate_positive_words              False\n",
       " rate_negative_words              False\n",
       " avg_positive_polarity            False\n",
       " min_positive_polarity            False\n",
       " max_positive_polarity            False\n",
       " avg_negative_polarity            False\n",
       " min_negative_polarity            False\n",
       " max_negative_polarity            False\n",
       " title_subjectivity               False\n",
       " title_sentiment_polarity         False\n",
       " abs_title_subjectivity           False\n",
       " abs_title_sentiment_polarity     False\n",
       " shares                           False\n",
       "Length: 61, dtype: bool"
      ]
     },
     "execution_count": 7,
     "metadata": {},
     "output_type": "execute_result"
    }
   ],
   "source": [
    "data.isnull().any()"
   ]
  },
  {
   "cell_type": "code",
   "execution_count": 8,
   "metadata": {},
   "outputs": [
    {
     "data": {
      "text/plain": [
       "url                                object\n",
       " timedelta                        float64\n",
       " n_tokens_title                   float64\n",
       " n_tokens_content                 float64\n",
       " n_unique_tokens                  float64\n",
       " n_non_stop_words                 float64\n",
       " n_non_stop_unique_tokens         float64\n",
       " num_hrefs                        float64\n",
       " num_self_hrefs                   float64\n",
       " num_imgs                         float64\n",
       " num_videos                       float64\n",
       " average_token_length             float64\n",
       " num_keywords                     float64\n",
       " data_channel_is_lifestyle        float64\n",
       " data_channel_is_entertainment    float64\n",
       " data_channel_is_bus              float64\n",
       " data_channel_is_socmed           float64\n",
       " data_channel_is_tech             float64\n",
       " data_channel_is_world            float64\n",
       " kw_min_min                       float64\n",
       " kw_max_min                       float64\n",
       " kw_avg_min                       float64\n",
       " kw_min_max                       float64\n",
       " kw_max_max                       float64\n",
       " kw_avg_max                       float64\n",
       " kw_min_avg                       float64\n",
       " kw_max_avg                       float64\n",
       " kw_avg_avg                       float64\n",
       " self_reference_min_shares        float64\n",
       " self_reference_max_shares        float64\n",
       "                                   ...   \n",
       " weekday_is_monday                float64\n",
       " weekday_is_tuesday               float64\n",
       " weekday_is_wednesday             float64\n",
       " weekday_is_thursday              float64\n",
       " weekday_is_friday                float64\n",
       " weekday_is_saturday              float64\n",
       " weekday_is_sunday                float64\n",
       " is_weekend                       float64\n",
       " LDA_00                           float64\n",
       " LDA_01                           float64\n",
       " LDA_02                           float64\n",
       " LDA_03                           float64\n",
       " LDA_04                           float64\n",
       " global_subjectivity              float64\n",
       " global_sentiment_polarity        float64\n",
       " global_rate_positive_words       float64\n",
       " global_rate_negative_words       float64\n",
       " rate_positive_words              float64\n",
       " rate_negative_words              float64\n",
       " avg_positive_polarity            float64\n",
       " min_positive_polarity            float64\n",
       " max_positive_polarity            float64\n",
       " avg_negative_polarity            float64\n",
       " min_negative_polarity            float64\n",
       " max_negative_polarity            float64\n",
       " title_subjectivity               float64\n",
       " title_sentiment_polarity         float64\n",
       " abs_title_subjectivity           float64\n",
       " abs_title_sentiment_polarity     float64\n",
       " shares                             int64\n",
       "Length: 61, dtype: object"
      ]
     },
     "execution_count": 8,
     "metadata": {},
     "output_type": "execute_result"
    }
   ],
   "source": [
    "data.dtypes"
   ]
  },
  {
   "cell_type": "markdown",
   "metadata": {},
   "source": [
    "- Creating the X columns to train the data.\n",
    "- From the available 60 attribute we observe that following arrttributes can be eliminated since they do not contribute towards \n",
    "- Target attribute that is Shares.\n",
    "- URL - Since every URL is unique for each column\n",
    "- 'weekday_is_monday', 'weekday_is_tuesday', 'weekday_is_wednesday', 'weekday_is_thursday', 'weekday_is_friday', 'weekday_is_saturday', 'weekday_is_sunday'\n",
    "- From following attribute we are trying to understand if the news was published on weekend and following information is available in \"is_weekend\" attribute\n"
   ]
  },
  {
   "cell_type": "code",
   "execution_count": 9,
   "metadata": {},
   "outputs": [],
   "source": [
    "x=data.drop([' shares','url', ' weekday_is_monday', ' weekday_is_tuesday', ' weekday_is_wednesday', ' weekday_is_thursday', ' weekday_is_friday', ' weekday_is_saturday', ' weekday_is_sunday'   \n",
    "  ], axis=1)"
   ]
  },
  {
   "cell_type": "code",
   "execution_count": 10,
   "metadata": {},
   "outputs": [
    {
     "data": {
      "text/plain": [
       "(39644, 52)"
      ]
     },
     "execution_count": 10,
     "metadata": {},
     "output_type": "execute_result"
    }
   ],
   "source": [
    "x.shape"
   ]
  },
  {
   "cell_type": "code",
   "execution_count": 11,
   "metadata": {},
   "outputs": [
    {
     "data": {
      "text/html": [
       "<div>\n",
       "<style scoped>\n",
       "    .dataframe tbody tr th:only-of-type {\n",
       "        vertical-align: middle;\n",
       "    }\n",
       "\n",
       "    .dataframe tbody tr th {\n",
       "        vertical-align: top;\n",
       "    }\n",
       "\n",
       "    .dataframe thead th {\n",
       "        text-align: right;\n",
       "    }\n",
       "</style>\n",
       "<table border=\"1\" class=\"dataframe\">\n",
       "  <thead>\n",
       "    <tr style=\"text-align: right;\">\n",
       "      <th></th>\n",
       "      <th>timedelta</th>\n",
       "      <th>n_tokens_title</th>\n",
       "      <th>n_tokens_content</th>\n",
       "      <th>n_unique_tokens</th>\n",
       "      <th>n_non_stop_words</th>\n",
       "      <th>n_non_stop_unique_tokens</th>\n",
       "      <th>num_hrefs</th>\n",
       "      <th>num_self_hrefs</th>\n",
       "      <th>num_imgs</th>\n",
       "      <th>num_videos</th>\n",
       "      <th>...</th>\n",
       "      <th>avg_positive_polarity</th>\n",
       "      <th>min_positive_polarity</th>\n",
       "      <th>max_positive_polarity</th>\n",
       "      <th>avg_negative_polarity</th>\n",
       "      <th>min_negative_polarity</th>\n",
       "      <th>max_negative_polarity</th>\n",
       "      <th>title_subjectivity</th>\n",
       "      <th>title_sentiment_polarity</th>\n",
       "      <th>abs_title_subjectivity</th>\n",
       "      <th>abs_title_sentiment_polarity</th>\n",
       "    </tr>\n",
       "  </thead>\n",
       "  <tbody>\n",
       "    <tr>\n",
       "      <th>0</th>\n",
       "      <td>731.0</td>\n",
       "      <td>12.0</td>\n",
       "      <td>219.0</td>\n",
       "      <td>0.663594</td>\n",
       "      <td>1.0</td>\n",
       "      <td>0.815385</td>\n",
       "      <td>4.0</td>\n",
       "      <td>2.0</td>\n",
       "      <td>1.0</td>\n",
       "      <td>0.0</td>\n",
       "      <td>...</td>\n",
       "      <td>0.378636</td>\n",
       "      <td>0.100000</td>\n",
       "      <td>0.7</td>\n",
       "      <td>-0.350000</td>\n",
       "      <td>-0.600</td>\n",
       "      <td>-0.200000</td>\n",
       "      <td>0.500000</td>\n",
       "      <td>-0.187500</td>\n",
       "      <td>0.000000</td>\n",
       "      <td>0.187500</td>\n",
       "    </tr>\n",
       "    <tr>\n",
       "      <th>1</th>\n",
       "      <td>731.0</td>\n",
       "      <td>9.0</td>\n",
       "      <td>255.0</td>\n",
       "      <td>0.604743</td>\n",
       "      <td>1.0</td>\n",
       "      <td>0.791946</td>\n",
       "      <td>3.0</td>\n",
       "      <td>1.0</td>\n",
       "      <td>1.0</td>\n",
       "      <td>0.0</td>\n",
       "      <td>...</td>\n",
       "      <td>0.286915</td>\n",
       "      <td>0.033333</td>\n",
       "      <td>0.7</td>\n",
       "      <td>-0.118750</td>\n",
       "      <td>-0.125</td>\n",
       "      <td>-0.100000</td>\n",
       "      <td>0.000000</td>\n",
       "      <td>0.000000</td>\n",
       "      <td>0.500000</td>\n",
       "      <td>0.000000</td>\n",
       "    </tr>\n",
       "    <tr>\n",
       "      <th>2</th>\n",
       "      <td>731.0</td>\n",
       "      <td>9.0</td>\n",
       "      <td>211.0</td>\n",
       "      <td>0.575130</td>\n",
       "      <td>1.0</td>\n",
       "      <td>0.663866</td>\n",
       "      <td>3.0</td>\n",
       "      <td>1.0</td>\n",
       "      <td>1.0</td>\n",
       "      <td>0.0</td>\n",
       "      <td>...</td>\n",
       "      <td>0.495833</td>\n",
       "      <td>0.100000</td>\n",
       "      <td>1.0</td>\n",
       "      <td>-0.466667</td>\n",
       "      <td>-0.800</td>\n",
       "      <td>-0.133333</td>\n",
       "      <td>0.000000</td>\n",
       "      <td>0.000000</td>\n",
       "      <td>0.500000</td>\n",
       "      <td>0.000000</td>\n",
       "    </tr>\n",
       "    <tr>\n",
       "      <th>3</th>\n",
       "      <td>731.0</td>\n",
       "      <td>9.0</td>\n",
       "      <td>531.0</td>\n",
       "      <td>0.503788</td>\n",
       "      <td>1.0</td>\n",
       "      <td>0.665635</td>\n",
       "      <td>9.0</td>\n",
       "      <td>0.0</td>\n",
       "      <td>1.0</td>\n",
       "      <td>0.0</td>\n",
       "      <td>...</td>\n",
       "      <td>0.385965</td>\n",
       "      <td>0.136364</td>\n",
       "      <td>0.8</td>\n",
       "      <td>-0.369697</td>\n",
       "      <td>-0.600</td>\n",
       "      <td>-0.166667</td>\n",
       "      <td>0.000000</td>\n",
       "      <td>0.000000</td>\n",
       "      <td>0.500000</td>\n",
       "      <td>0.000000</td>\n",
       "    </tr>\n",
       "    <tr>\n",
       "      <th>4</th>\n",
       "      <td>731.0</td>\n",
       "      <td>13.0</td>\n",
       "      <td>1072.0</td>\n",
       "      <td>0.415646</td>\n",
       "      <td>1.0</td>\n",
       "      <td>0.540890</td>\n",
       "      <td>19.0</td>\n",
       "      <td>19.0</td>\n",
       "      <td>20.0</td>\n",
       "      <td>0.0</td>\n",
       "      <td>...</td>\n",
       "      <td>0.411127</td>\n",
       "      <td>0.033333</td>\n",
       "      <td>1.0</td>\n",
       "      <td>-0.220192</td>\n",
       "      <td>-0.500</td>\n",
       "      <td>-0.050000</td>\n",
       "      <td>0.454545</td>\n",
       "      <td>0.136364</td>\n",
       "      <td>0.045455</td>\n",
       "      <td>0.136364</td>\n",
       "    </tr>\n",
       "  </tbody>\n",
       "</table>\n",
       "<p>5 rows × 52 columns</p>\n",
       "</div>"
      ],
      "text/plain": [
       "    timedelta   n_tokens_title   n_tokens_content   n_unique_tokens  \\\n",
       "0       731.0             12.0              219.0          0.663594   \n",
       "1       731.0              9.0              255.0          0.604743   \n",
       "2       731.0              9.0              211.0          0.575130   \n",
       "3       731.0              9.0              531.0          0.503788   \n",
       "4       731.0             13.0             1072.0          0.415646   \n",
       "\n",
       "    n_non_stop_words   n_non_stop_unique_tokens   num_hrefs   num_self_hrefs  \\\n",
       "0                1.0                   0.815385         4.0              2.0   \n",
       "1                1.0                   0.791946         3.0              1.0   \n",
       "2                1.0                   0.663866         3.0              1.0   \n",
       "3                1.0                   0.665635         9.0              0.0   \n",
       "4                1.0                   0.540890        19.0             19.0   \n",
       "\n",
       "    num_imgs   num_videos              ...                \\\n",
       "0        1.0          0.0              ...                 \n",
       "1        1.0          0.0              ...                 \n",
       "2        1.0          0.0              ...                 \n",
       "3        1.0          0.0              ...                 \n",
       "4       20.0          0.0              ...                 \n",
       "\n",
       "    avg_positive_polarity   min_positive_polarity   max_positive_polarity  \\\n",
       "0                0.378636                0.100000                     0.7   \n",
       "1                0.286915                0.033333                     0.7   \n",
       "2                0.495833                0.100000                     1.0   \n",
       "3                0.385965                0.136364                     0.8   \n",
       "4                0.411127                0.033333                     1.0   \n",
       "\n",
       "    avg_negative_polarity   min_negative_polarity   max_negative_polarity  \\\n",
       "0               -0.350000                  -0.600               -0.200000   \n",
       "1               -0.118750                  -0.125               -0.100000   \n",
       "2               -0.466667                  -0.800               -0.133333   \n",
       "3               -0.369697                  -0.600               -0.166667   \n",
       "4               -0.220192                  -0.500               -0.050000   \n",
       "\n",
       "    title_subjectivity   title_sentiment_polarity   abs_title_subjectivity  \\\n",
       "0             0.500000                  -0.187500                 0.000000   \n",
       "1             0.000000                   0.000000                 0.500000   \n",
       "2             0.000000                   0.000000                 0.500000   \n",
       "3             0.000000                   0.000000                 0.500000   \n",
       "4             0.454545                   0.136364                 0.045455   \n",
       "\n",
       "    abs_title_sentiment_polarity  \n",
       "0                       0.187500  \n",
       "1                       0.000000  \n",
       "2                       0.000000  \n",
       "3                       0.000000  \n",
       "4                       0.136364  \n",
       "\n",
       "[5 rows x 52 columns]"
      ]
     },
     "execution_count": 11,
     "metadata": {},
     "output_type": "execute_result"
    }
   ],
   "source": [
    "x.head(5)"
   ]
  },
  {
   "cell_type": "markdown",
   "metadata": {},
   "source": [
    " ### Declare the Y that is Target.\n",
    "- Using attribute Shares as the target.\n",
    "- Analysing the Shares attributeabs"
   ]
  },
  {
   "cell_type": "code",
   "execution_count": 12,
   "metadata": {},
   "outputs": [
    {
     "data": {
      "image/png": "[encoded data removed]",
      "text/plain": [
       "<matplotlib.figure.Figure at 0x1f185c4c080>"
      ]
     },
     "metadata": {},
     "output_type": "display_data"
    }
   ],
   "source": [
    "plt.hist(data[' shares'])\n",
    "plt.show()"
   ]
  },
  {
   "cell_type": "markdown",
   "metadata": {},
   "source": [
    "Since the data is highly skewed we are using Log Transformation to make data less skewed.This can be valuable both for making patterns in the data more interpretable and for helping to meet the assumptions of inferential statistics."
   ]
  },
  {
   "cell_type": "code",
   "execution_count": 13,
   "metadata": {},
   "outputs": [
    {
     "data": {
      "image/png": "[encoded data removed]",
      "text/plain": [
       "<matplotlib.figure.Figure at 0x1f185c48048>"
      ]
     },
     "metadata": {},
     "output_type": "display_data"
    }
   ],
   "source": [
    "plt.hist(np.log10(data[' shares']))\n",
    "plt.show()"
   ]
  },
  {
   "cell_type": "markdown",
   "metadata": {},
   "source": [
    "### Understanding the Shares data is to interpret into two sections "
   ]
  },
  {
   "cell_type": "code",
   "execution_count": 14,
   "metadata": {},
   "outputs": [
    {
     "data": {
      "text/plain": [
       "count    39644.000000\n",
       "mean         3.246288\n",
       "std          0.404105\n",
       "min          0.000000\n",
       "25%          2.975891\n",
       "50%          3.146128\n",
       "75%          3.447158\n",
       "max          5.925982\n",
       "Name:  shares, dtype: float64"
      ]
     },
     "execution_count": 14,
     "metadata": {},
     "output_type": "execute_result"
    }
   ],
   "source": [
    "np.log10(data[' shares']).describe()"
   ]
  },
  {
   "cell_type": "markdown",
   "metadata": {},
   "source": [
    "### Creating a new attribute as Category to be used as Target attribute\n",
    "- The Columns are identified as either 1 or 2 on following basis\n",
    "- Category 1 -  the news artical that are shared less then 50% that is less than value 3 - Article is not much popular\n",
    "- Category 2 -  the news artical that are shared more then 50% that is more than value 3 - Article is very popular"
   ]
  },
  {
   "cell_type": "code",
   "execution_count": 15,
   "metadata": {},
   "outputs": [],
   "source": [
    "data_class = np.log10(data[' shares'])\n",
    "data['category'] = (data_class<=3)*1 | (data_class>3)*2"
   ]
  },
  {
   "cell_type": "markdown",
   "metadata": {},
   "source": [
    "### Ploting the category data"
   ]
  },
  {
   "cell_type": "code",
   "execution_count": 16,
   "metadata": {},
   "outputs": [
    {
     "data": {
      "image/png": "[encoded data removed]",
      "text/plain": [
       "<matplotlib.figure.Figure at 0x1f185c677f0>"
      ]
     },
     "metadata": {},
     "output_type": "display_data"
    }
   ],
   "source": [
    "plt.hist(data['category'])\n",
    "plt.show()"
   ]
  },
  {
   "cell_type": "code",
   "execution_count": 17,
   "metadata": {},
   "outputs": [
    {
     "data": {
      "text/html": [
       "<div>\n",
       "<style scoped>\n",
       "    .dataframe tbody tr th:only-of-type {\n",
       "        vertical-align: middle;\n",
       "    }\n",
       "\n",
       "    .dataframe tbody tr th {\n",
       "        vertical-align: top;\n",
       "    }\n",
       "\n",
       "    .dataframe thead th {\n",
       "        text-align: right;\n",
       "    }\n",
       "</style>\n",
       "<table border=\"1\" class=\"dataframe\">\n",
       "  <thead>\n",
       "    <tr style=\"text-align: right;\">\n",
       "      <th></th>\n",
       "      <th>url</th>\n",
       "      <th>timedelta</th>\n",
       "      <th>n_tokens_title</th>\n",
       "      <th>n_tokens_content</th>\n",
       "      <th>n_unique_tokens</th>\n",
       "      <th>n_non_stop_words</th>\n",
       "      <th>n_non_stop_unique_tokens</th>\n",
       "      <th>num_hrefs</th>\n",
       "      <th>num_self_hrefs</th>\n",
       "      <th>num_imgs</th>\n",
       "      <th>...</th>\n",
       "      <th>max_positive_polarity</th>\n",
       "      <th>avg_negative_polarity</th>\n",
       "      <th>min_negative_polarity</th>\n",
       "      <th>max_negative_polarity</th>\n",
       "      <th>title_subjectivity</th>\n",
       "      <th>title_sentiment_polarity</th>\n",
       "      <th>abs_title_subjectivity</th>\n",
       "      <th>abs_title_sentiment_polarity</th>\n",
       "      <th>shares</th>\n",
       "      <th>category</th>\n",
       "    </tr>\n",
       "  </thead>\n",
       "  <tbody>\n",
       "    <tr>\n",
       "      <th>0</th>\n",
       "      <td>http://mashable.com/2013/01/07/amazon-instant-...</td>\n",
       "      <td>731.0</td>\n",
       "      <td>12.0</td>\n",
       "      <td>219.0</td>\n",
       "      <td>0.663594</td>\n",
       "      <td>1.0</td>\n",
       "      <td>0.815385</td>\n",
       "      <td>4.0</td>\n",
       "      <td>2.0</td>\n",
       "      <td>1.0</td>\n",
       "      <td>...</td>\n",
       "      <td>0.7</td>\n",
       "      <td>-0.35000</td>\n",
       "      <td>-0.600</td>\n",
       "      <td>-0.2</td>\n",
       "      <td>0.5</td>\n",
       "      <td>-0.1875</td>\n",
       "      <td>0.0</td>\n",
       "      <td>0.1875</td>\n",
       "      <td>593</td>\n",
       "      <td>1</td>\n",
       "    </tr>\n",
       "    <tr>\n",
       "      <th>1</th>\n",
       "      <td>http://mashable.com/2013/01/07/ap-samsung-spon...</td>\n",
       "      <td>731.0</td>\n",
       "      <td>9.0</td>\n",
       "      <td>255.0</td>\n",
       "      <td>0.604743</td>\n",
       "      <td>1.0</td>\n",
       "      <td>0.791946</td>\n",
       "      <td>3.0</td>\n",
       "      <td>1.0</td>\n",
       "      <td>1.0</td>\n",
       "      <td>...</td>\n",
       "      <td>0.7</td>\n",
       "      <td>-0.11875</td>\n",
       "      <td>-0.125</td>\n",
       "      <td>-0.1</td>\n",
       "      <td>0.0</td>\n",
       "      <td>0.0000</td>\n",
       "      <td>0.5</td>\n",
       "      <td>0.0000</td>\n",
       "      <td>711</td>\n",
       "      <td>1</td>\n",
       "    </tr>\n",
       "  </tbody>\n",
       "</table>\n",
       "<p>2 rows × 62 columns</p>\n",
       "</div>"
      ],
      "text/plain": [
       "                                                 url   timedelta  \\\n",
       "0  http://mashable.com/2013/01/07/amazon-instant-...       731.0   \n",
       "1  http://mashable.com/2013/01/07/ap-samsung-spon...       731.0   \n",
       "\n",
       "    n_tokens_title   n_tokens_content   n_unique_tokens   n_non_stop_words  \\\n",
       "0             12.0              219.0          0.663594                1.0   \n",
       "1              9.0              255.0          0.604743                1.0   \n",
       "\n",
       "    n_non_stop_unique_tokens   num_hrefs   num_self_hrefs   num_imgs  \\\n",
       "0                   0.815385         4.0              2.0        1.0   \n",
       "1                   0.791946         3.0              1.0        1.0   \n",
       "\n",
       "     ...      max_positive_polarity   avg_negative_polarity  \\\n",
       "0    ...                        0.7                -0.35000   \n",
       "1    ...                        0.7                -0.11875   \n",
       "\n",
       "    min_negative_polarity   max_negative_polarity   title_subjectivity  \\\n",
       "0                  -0.600                    -0.2                  0.5   \n",
       "1                  -0.125                    -0.1                  0.0   \n",
       "\n",
       "    title_sentiment_polarity   abs_title_subjectivity  \\\n",
       "0                    -0.1875                      0.0   \n",
       "1                     0.0000                      0.5   \n",
       "\n",
       "    abs_title_sentiment_polarity   shares  category  \n",
       "0                         0.1875      593         1  \n",
       "1                         0.0000      711         1  \n",
       "\n",
       "[2 rows x 62 columns]"
      ]
     },
     "execution_count": 17,
     "metadata": {},
     "output_type": "execute_result"
    }
   ],
   "source": [
    "data.head(2)"
   ]
  },
  {
   "cell_type": "code",
   "execution_count": 18,
   "metadata": {},
   "outputs": [
    {
     "data": {
      "text/plain": [
       "(39644, 62)"
      ]
     },
     "execution_count": 18,
     "metadata": {},
     "output_type": "execute_result"
    }
   ],
   "source": [
    "data.shape"
   ]
  },
  {
   "cell_type": "markdown",
   "metadata": {},
   "source": [
    "### Category is added to the Data as 62 attribute and will be used as target"
   ]
  },
  {
   "cell_type": "code",
   "execution_count": 19,
   "metadata": {},
   "outputs": [],
   "source": [
    "y = data['category']"
   ]
  },
  {
   "cell_type": "code",
   "execution_count": 20,
   "metadata": {},
   "outputs": [],
   "source": [
    "# Checking the X and Y"
   ]
  },
  {
   "cell_type": "code",
   "execution_count": 21,
   "metadata": {},
   "outputs": [
    {
     "data": {
      "text/plain": [
       "(39644, 52)"
      ]
     },
     "execution_count": 21,
     "metadata": {},
     "output_type": "execute_result"
    }
   ],
   "source": [
    "x.shape"
   ]
  },
  {
   "cell_type": "code",
   "execution_count": 22,
   "metadata": {},
   "outputs": [
    {
     "data": {
      "text/plain": [
       "(39644,)"
      ]
     },
     "execution_count": 22,
     "metadata": {},
     "output_type": "execute_result"
    }
   ],
   "source": [
    "y.shape"
   ]
  },
  {
   "cell_type": "markdown",
   "metadata": {},
   "source": [
    "### Spillting the data into training and test data taking 20% from the overall data as test data and 80% as training data"
   ]
  },
  {
   "cell_type": "code",
   "execution_count": 23,
   "metadata": {},
   "outputs": [],
   "source": [
    "X_train, X_test, y_train, y_test = train_test_split(x, y, test_size=0.20, random_state=324)"
   ]
  },
  {
   "cell_type": "markdown",
   "metadata": {},
   "source": [
    "### verifying the data"
   ]
  },
  {
   "cell_type": "code",
   "execution_count": 24,
   "metadata": {},
   "outputs": [
    {
     "data": {
      "text/plain": [
       "(31715, 52)"
      ]
     },
     "execution_count": 24,
     "metadata": {},
     "output_type": "execute_result"
    }
   ],
   "source": [
    "X_train.shape"
   ]
  },
  {
   "cell_type": "code",
   "execution_count": 25,
   "metadata": {},
   "outputs": [
    {
     "data": {
      "text/plain": [
       "(31715,)"
      ]
     },
     "execution_count": 25,
     "metadata": {},
     "output_type": "execute_result"
    }
   ],
   "source": [
    "y_train.shape"
   ]
  },
  {
   "cell_type": "code",
   "execution_count": 26,
   "metadata": {},
   "outputs": [
    {
     "data": {
      "text/plain": [
       "(7929, 52)"
      ]
     },
     "execution_count": 26,
     "metadata": {},
     "output_type": "execute_result"
    }
   ],
   "source": [
    "X_test.shape"
   ]
  },
  {
   "cell_type": "code",
   "execution_count": 27,
   "metadata": {},
   "outputs": [
    {
     "data": {
      "text/plain": [
       "(7929,)"
      ]
     },
     "execution_count": 27,
     "metadata": {},
     "output_type": "execute_result"
    }
   ],
   "source": [
    "y_test.shape"
   ]
  },
  {
   "cell_type": "markdown",
   "metadata": {},
   "source": [
    "### Implementing Decision Tree"
   ]
  },
  {
   "cell_type": "code",
   "execution_count": 28,
   "metadata": {},
   "outputs": [
    {
     "name": "stdout",
     "output_type": "stream",
     "text": [
      "<class 'sklearn.tree.tree.DecisionTreeClassifier'>\n"
     ]
    }
   ],
   "source": [
    "rank_classifier = DecisionTreeClassifier(max_leaf_nodes=10, random_state=0)\n",
    "rank_classifier.fit(X_train,y_train)\n",
    "print(type(rank_classifier))\n",
    "Predictions = rank_classifier.predict(X_test)\n",
    "Predictions_train = rank_classifier.predict(X_train)"
   ]
  },
  {
   "cell_type": "code",
   "execution_count": 29,
   "metadata": {},
   "outputs": [
    {
     "name": "stdout",
     "output_type": "stream",
     "text": [
      "========Training Acuracy ========== \n",
      "0.7112722686425982\n",
      "========Testing Acuracy =========== \n",
      "0.7024845503846638\n"
     ]
    }
   ],
   "source": [
    "# Verifying the accuracy\n",
    "Testing_Accuarcy = accuracy_score(y_true = y_test, y_pred = Predictions)\n",
    "Training_Accuracy = accuracy_score(y_true = y_train, y_pred = Predictions_train)\n",
    "\n",
    "print(\"========Training Acuracy ========== \")\n",
    "print(Training_Accuracy)\n",
    "print(\"========Testing Acuracy =========== \")\n",
    "print(Testing_Accuarcy)"
   ]
  },
  {
   "cell_type": "code",
   "execution_count": 30,
   "metadata": {},
   "outputs": [],
   "source": [
    "#df = pd.DataFrame({'Actual': y_test,'Predicted' : Predictions})\n",
    "#df"
   ]
  },
  {
   "cell_type": "code",
   "execution_count": 31,
   "metadata": {},
   "outputs": [
    {
     "data": {
      "text/plain": [
       "array([[ 741, 1807],\n",
       "       [ 552, 4829]], dtype=int64)"
      ]
     },
     "execution_count": 31,
     "metadata": {},
     "output_type": "execute_result"
    }
   ],
   "source": [
    "confusion_matrix(y_test, Predictions)"
   ]
  },
  {
   "cell_type": "code",
   "execution_count": 32,
   "metadata": {},
   "outputs": [
    {
     "name": "stdout",
     "output_type": "stream",
     "text": [
      "[[ 741 1807]\n",
      " [ 552 4829]]\n"
     ]
    }
   ],
   "source": [
    "confusion_matrix(y_test,Predictions)\n",
    "from sklearn import metrics\n",
    "confusion=metrics.confusion_matrix(y_test, Predictions)\n",
    "print(confusion)\n",
    "TP = confusion[1, 1]\n",
    "TN = confusion[0, 0]\n",
    "FP = confusion[0, 1]\n",
    "FN = confusion[1, 0]"
   ]
  },
  {
   "cell_type": "code",
   "execution_count": 33,
   "metadata": {},
   "outputs": [
    {
     "name": "stdout",
     "output_type": "stream",
     "text": [
      "0.29751544961533616\n",
      "0.5730858468677494\n",
      "0.8974168370191414\n",
      "0.29081632653061223\n",
      "0.7091836734693877\n"
     ]
    }
   ],
   "source": [
    "#Also known as \"Misclassification Rate\"how often is the classifier incorrect?\n",
    "print(1 - metrics.accuracy_score(y_test,Predictions))\n",
    "#Precision: When a positive value is predicted, how often is the prediction correct?\n",
    "print(metrics.precision_score(y_test, Predictions))\n",
    "#Sensitivity: When the actual value is positive, how often is the prediction correct?\n",
    "#Also known as \"True Positive Rate\" or \"Recall\"\n",
    "#Something we want to maximize\n",
    "sensitivity = TP / float(FN + TP)\n",
    "print(sensitivity)\n",
    "#Specificity: When the actual value is negative, how often is the prediction correct?\n",
    "\n",
    "#Something we want to maximize\n",
    "#How \"specific\" (or \"selective\") is the classifier in predicting positive instances?\n",
    "#TN / all negative\n",
    "#all negative = TN + FP\n",
    "specificity = TN / float(TN + FP)\n",
    "print(specificity)\n",
    "#False Positive Rate: When the actual value is negative, how often is the prediction incorrect?\n",
    "false_positive_rate = FP / float(TN + FP)\n",
    "\n",
    "print(false_positive_rate)"
   ]
  },
  {
   "cell_type": "markdown",
   "metadata": {},
   "source": [
    "## Using Recursive feature elimination for identifying the most relevant attributes \n",
    "Recursive Feature Elimination or RFE uses a model ( eg. linear Regression or SVM) to select either the best or worst-performing feature, and then excludes that feature. The whole process is then iterated until all features in the dataset are used up ( or up to a user-defined limit). Sklearn conveniently possesses a RFE function via the sklearn.feature_selection call and we use this along with a simple linear regression model and loistic regression model for  ranking the features and to decide on the attribute for the model building."
   ]
  },
  {
   "cell_type": "code",
   "execution_count": 34,
   "metadata": {
    "scrolled": false
   },
   "outputs": [
    {
     "name": "stdout",
     "output_type": "stream",
     "text": [
      "[False False False False False False False False False False False False\n",
      " False False False False False False False False False False False False\n",
      " False False False False False False False False False  True False False\n",
      " False False False False False False False False False False False False\n",
      " False False False False]\n",
      "[40 38 42 26 17  7 34 32 36 35 33 31 28 11 13  9 21 14 39 46 45 49 51 48\n",
      " 44 43 41 52 50 47 10  4  2  1  3  5  6 24 15  8 18 16 22 12 29 20 37 19\n",
      " 27 25 23 30]\n"
     ]
    }
   ],
   "source": [
    "from sklearn.feature_selection import RFE\n",
    "from sklearn.linear_model import LinearRegression\n",
    "#use linear regression as the model\n",
    "lr = LinearRegression()\n",
    "rfe = RFE(lr, n_features_to_select=1)\n",
    "rfe.fit(x,y)\n",
    "print(rfe.support_)\n",
    "print(rfe.ranking_)"
   ]
  },
  {
   "cell_type": "code",
   "execution_count": 35,
   "metadata": {},
   "outputs": [
    {
     "name": "stdout",
     "output_type": "stream",
     "text": [
      "[False False False False False False False False False False False False\n",
      " False False False  True False False False False False False False False\n",
      " False False False False False False False False False False False False\n",
      " False False False False False False False False False False False False\n",
      " False False False False]\n",
      "[20 18 22 36 31 40 15 14 16 17 12 11 39  4 34  1  5  8 19 26 30 46 32 29\n",
      " 24 23 21 27 28 25  2 10 13  3  6  9 42 37 50 49 35  7 47 45 44 43 38 48\n",
      " 51 33 52 41]\n"
     ]
    }
   ],
   "source": [
    "from sklearn.feature_selection import RFE\n",
    "from sklearn.linear_model import LogisticRegression\n",
    "#use linear regression as the model\n",
    "lr = LogisticRegression()\n",
    "rfe = RFE(lr, n_features_to_select=1)\n",
    "rfe.fit(x,y)\n",
    "print(rfe.support_)\n",
    "print(rfe.ranking_)"
   ]
  },
  {
   "cell_type": "code",
   "execution_count": 36,
   "metadata": {},
   "outputs": [
    {
     "data": {
      "text/plain": [
       "[' timedelta',\n",
       " ' n_tokens_title',\n",
       " ' n_tokens_content',\n",
       " ' n_unique_tokens',\n",
       " ' n_non_stop_words',\n",
       " ' n_non_stop_unique_tokens',\n",
       " ' num_hrefs',\n",
       " ' num_self_hrefs',\n",
       " ' num_imgs',\n",
       " ' num_videos',\n",
       " ' average_token_length',\n",
       " ' num_keywords',\n",
       " ' data_channel_is_lifestyle',\n",
       " ' data_channel_is_entertainment',\n",
       " ' data_channel_is_bus',\n",
       " ' data_channel_is_socmed',\n",
       " ' data_channel_is_tech',\n",
       " ' data_channel_is_world',\n",
       " ' kw_min_min',\n",
       " ' kw_max_min',\n",
       " ' kw_avg_min',\n",
       " ' kw_min_max',\n",
       " ' kw_max_max',\n",
       " ' kw_avg_max',\n",
       " ' kw_min_avg',\n",
       " ' kw_max_avg',\n",
       " ' kw_avg_avg',\n",
       " ' self_reference_min_shares',\n",
       " ' self_reference_max_shares',\n",
       " ' self_reference_avg_sharess',\n",
       " ' is_weekend',\n",
       " ' LDA_00',\n",
       " ' LDA_01',\n",
       " ' LDA_02',\n",
       " ' LDA_03',\n",
       " ' LDA_04',\n",
       " ' global_subjectivity',\n",
       " ' global_sentiment_polarity',\n",
       " ' global_rate_positive_words',\n",
       " ' global_rate_negative_words',\n",
       " ' rate_positive_words',\n",
       " ' rate_negative_words',\n",
       " ' avg_positive_polarity',\n",
       " ' min_positive_polarity',\n",
       " ' max_positive_polarity',\n",
       " ' avg_negative_polarity',\n",
       " ' min_negative_polarity',\n",
       " ' max_negative_polarity',\n",
       " ' title_subjectivity',\n",
       " ' title_sentiment_polarity',\n",
       " ' abs_title_subjectivity',\n",
       " ' abs_title_sentiment_polarity']"
      ]
     },
     "execution_count": 36,
     "metadata": {},
     "output_type": "execute_result"
    }
   ],
   "source": [
    "list(x)"
   ]
  },
  {
   "cell_type": "code",
   "execution_count": 37,
   "metadata": {},
   "outputs": [],
   "source": [
    "x_New = data[[' LDA_02',' LDA_01',' LDA_03',' LDA_00',' LDA_04',' data_channel_is_socmed',' is_weekend',' data_channel_is_entertainment',' num_keywords',' global_subjectivity',' num_self_hrefs',' num_hrefs',' num_imgs',' num_videos',' n_tokens_title',' n_non_stop_unique_tokens',' n_non_stop_words',' global_rate_negative_words',' data_channel_is_tech',' rate_negative_words',' rate_positive_words']]"
   ]
  },
  {
   "cell_type": "code",
   "execution_count": 38,
   "metadata": {},
   "outputs": [
    {
     "data": {
      "text/plain": [
       "(39644, 21)"
      ]
     },
     "execution_count": 38,
     "metadata": {},
     "output_type": "execute_result"
    }
   ],
   "source": [
    "x_New.shape"
   ]
  },
  {
   "cell_type": "markdown",
   "metadata": {},
   "source": [
    "# Data Mining Methods"
   ]
  },
  {
   "cell_type": "markdown",
   "metadata": {},
   "source": [
    "## Classification Analysis:\n",
    "Classification is a data mining technique that assigns categories to a collection of data in order to aid in more accurate predictions and analysis. This method is utilized to recover critical and important information about a data set. It is utilized to organize information in various classes.\n",
    "Very large databases are becoming the norm in today's world of \"big data.\" The primary challenge of big data is how to make sense of it.\n",
    "And sheer volume is not the only problem: big data also tends to be diverse, unstructured and fast-changing. Consider audio and video data, social media posts, 3D data or geospatial data. This kind of data is not easily categorized or organized. To meet this challenge, a range of automatic methods for extracting useful information has been developed, among them classification.\n",
    "\n",
    "### Applications:\n",
    "Classification, and other data mining techniques, is behind much of our day-to-day experience as consumers.\n",
    "Weather predictions might make use of classification to report whether the day will be rainy, sunny or cloudy. The medical profession might analyze health conditions to predict medical outcomes. From fraud detection to product offers, classification is behind the scenes every day analyzing data and producing predictions.\n"
   ]
  },
  {
   "cell_type": "markdown",
   "metadata": {},
   "source": [
    "## Decision tree implementation after feature selection\n",
    "A decision tree is a guide of the conceivable results of a progression of related choices. Decision tree is one of the most used techniques in data mining because of its simplicity to explain the results. Besides, there are decision tree algorithms that work with parallel and incremental techniques, which help to process large databases for classifying new objects faster than traditional algorithms.\n",
    "A decision tree ordinarily begins with a single node, which branches into conceivable results. \n",
    "\n",
    "### Applications:\n",
    "Decision trees are very “user-friendly” because they are easy to understand by practically everyone and provide reasonably accurate results. They provide an easy to analyze breakdown of the data and can be used practically in every business area that requires decision-making, including, but not limited to marketing, pharmacology, financial analysis, manufacturing, production, etc.\n",
    "\n"
   ]
  },
  {
   "cell_type": "code",
   "execution_count": 39,
   "metadata": {},
   "outputs": [],
   "source": [
    "#splitting the data\n",
    "X_train, X_test, y_train, y_test = train_test_split(x_New, y, test_size=0.20, random_state=324)"
   ]
  },
  {
   "cell_type": "code",
   "execution_count": 40,
   "metadata": {},
   "outputs": [
    {
     "name": "stdout",
     "output_type": "stream",
     "text": [
      "<class 'sklearn.tree.tree.DecisionTreeClassifier'>\n"
     ]
    }
   ],
   "source": [
    "rank_classifier = DecisionTreeClassifier(max_leaf_nodes=10, random_state=0)\n",
    "rank_classifier.fit(X_train,y_train)\n",
    "print(type(rank_classifier))\n",
    "Predictions = rank_classifier.predict(X_test)"
   ]
  },
  {
   "cell_type": "code",
   "execution_count": 41,
   "metadata": {},
   "outputs": [
    {
     "data": {
      "text/plain": [
       "0.6749905410518351"
      ]
     },
     "execution_count": 41,
     "metadata": {},
     "output_type": "execute_result"
    }
   ],
   "source": [
    "#calculating the accuracy score\n",
    "Accuracy_DT = accuracy_score(y_true = y_test, y_pred = Predictions)\n",
    "Accuracy_DT"
   ]
  },
  {
   "cell_type": "code",
   "execution_count": 42,
   "metadata": {},
   "outputs": [
    {
     "name": "stdout",
     "output_type": "stream",
     "text": [
      "[[ 596 1952]\n",
      " [ 625 4756]]\n"
     ]
    }
   ],
   "source": [
    "from sklearn import metrics\n",
    "confusion=metrics.confusion_matrix(y_test, Predictions)\n",
    "print(confusion)\n",
    "TP_DT = confusion[1, 1]\n",
    "TN_DT = confusion[0, 0]\n",
    "FP_DT = confusion[0, 1]\n",
    "FN_DT = confusion[1, 0]\n",
    "#fpr, tpr, thresholds = metrics.roc_curve(y_test,Predictions)"
   ]
  },
  {
   "cell_type": "code",
   "execution_count": 43,
   "metadata": {},
   "outputs": [
    {
     "name": "stdout",
     "output_type": "stream",
     "text": [
      "0.3250094589481649\n",
      "0.4881244881244881\n",
      "0.8974168370191414\n",
      "0.29081632653061223\n"
     ]
    }
   ],
   "source": [
    "#Also known as \"Misclassification Rate\"how often is the classifier incorrect?\n",
    "print(1 - metrics.accuracy_score(y_test, Predictions))\n",
    "#Precision: When a positive value is predicted, how often is the prediction correct?\n",
    "print(metrics.precision_score(y_test, Predictions))\n",
    "precision_DT = metrics.precision_score(y_test, Predictions)\n",
    "recall_DT = metrics.recall_score(y_test, Predictions)\n",
    "#Sensitivity: When the actual value is positive, how often is the prediction correct?\n",
    "#Also known as \"True Positive Rate\" or \"Recall\"\n",
    "#Something we want to maximize\n",
    "\n",
    "#Specificity: When the actual value is negative, how often is the prediction correct?\n",
    "sensitivity_DT = TP_DT / float(FN_DT + TP_DT)\n",
    "print(sensitivity)\n",
    "#Something we want to maximize\n",
    "#How \"specific\" (or \"selective\") is the classifier in predicting positive instances?\n",
    "#TN / all negative\n",
    "#all negative = TN + FP\n",
    "specificity_DT = TN_DT / (TN_DT + FP_DT)\n",
    "print(specificity)"
   ]
  },
  {
   "cell_type": "code",
   "execution_count": 44,
   "metadata": {},
   "outputs": [
    {
     "name": "stdout",
     "output_type": "stream",
     "text": [
      "0.690016275881343\n"
     ]
    }
   ],
   "source": [
    "#Cross Validation scoreDEPLOYMENT  \n",
    "scores_DT = cross_validation.cross_val_score(rank_classifier, x_New, y, cv=5).mean()\n",
    "print (scores_DT)"
   ]
  },
  {
   "cell_type": "code",
   "execution_count": 45,
   "metadata": {},
   "outputs": [],
   "source": [
    "#from sklearn.preprocessing import label_binarize \n",
    "#y = binarize(predicted_knn, 0.3)\n",
    "#n_classes = y.reshape(-1, 1)\n",
    "y_pred_prob = rank_classifier.predict_proba(X_test)[:, 1]\n",
    "\n",
    "\n",
    "#y_pred_class = binarize(y_pred_prob, 0.3)\n",
    "fpr, tpr, thresholds = metrics.roc_curve(y_test,y_pred_prob,pos_label=2)"
   ]
  },
  {
   "cell_type": "code",
   "execution_count": 46,
   "metadata": {},
   "outputs": [
    {
     "data": {
      "image/png": "[encoded data removed]",
      "text/plain": [
       "<matplotlib.figure.Figure at 0x1f186147b38>"
      ]
     },
     "metadata": {},
     "output_type": "display_data"
    }
   ],
   "source": [
    "plt.plot(fpr, tpr)\n",
    "plt.xlim([0.0, 1.0])\n",
    "plt.ylim([0.0, 1.0])\n",
    "plt.rcParams['font.size'] = 12\n",
    "plt.title('ROC curve ')\n",
    "plt.xlabel('False Positive Rate (1 - Specificity)')\n",
    "plt.ylabel('True Positive Rate (Sensitivity)')\n",
    "plt.grid(True)\n",
    "plt.show()"
   ]
  },
  {
   "cell_type": "code",
   "execution_count": 47,
   "metadata": {},
   "outputs": [],
   "source": [
    "def evaluate_threshold(threshold):\n",
    "    print('Sensitivity:', tpr[thresholds > threshold][-1])\n",
    "    print('Specificity:', 1 - fpr[thresholds > threshold][-1])"
   ]
  },
  {
   "cell_type": "code",
   "execution_count": 48,
   "metadata": {},
   "outputs": [
    {
     "name": "stdout",
     "output_type": "stream",
     "text": [
      "Sensitivity: 0.681100167255157\n",
      "Specificity: 0.5773155416012559\n"
     ]
    }
   ],
   "source": [
    "evaluate_threshold(0.65)"
   ]
  },
  {
   "cell_type": "code",
   "execution_count": 49,
   "metadata": {},
   "outputs": [
    {
     "data": {
      "text/plain": [
       "0.5894467289540443"
      ]
     },
     "execution_count": 49,
     "metadata": {},
     "output_type": "execute_result"
    }
   ],
   "source": [
    "#loss function\n",
    "from sklearn.metrics import log_loss\n",
    "Loss_DT = log_loss(y_test,y_pred_prob)\n",
    "Loss_DT"
   ]
  },
  {
   "cell_type": "markdown",
   "metadata": {},
   "source": [
    "# Support Vector Machine(SVM)\n",
    "\n",
    "A Support Vector Machine (SVM) is a discriminative classifier formally defined by a separating hyperplane. In other words, given labelled training data (supervised learning), the algorithm outputs an optimal hyperplane which categorizes new examples. In two-dimensional space this hyperplane is a line dividing a plane in two parts where in each class lay in either side.\n",
    "\n",
    "## Applications\n",
    "As we have seen, SVMs depends on supervised learning algorithms. The aim of using SVM is to correctly classify unseen data. SVMs have several applications in several fields.\n",
    "Some common applications of SVM are-\n",
    "Face detection, Text and hypertext categorization, Classification of images , Bioinformatics, Protein fold and remote homology detection , Handwriting recognition , Generalized predictive control(GPC) "
   ]
  },
  {
   "cell_type": "code",
   "execution_count": 50,
   "metadata": {},
   "outputs": [],
   "source": [
    "from sklearn import svm"
   ]
  },
  {
   "cell_type": "code",
   "execution_count": 51,
   "metadata": {},
   "outputs": [],
   "source": [
    "X_train, X_test, y_train, y_test = train_test_split(x_New, y, test_size=0.20, random_state=324)"
   ]
  },
  {
   "cell_type": "code",
   "execution_count": 52,
   "metadata": {},
   "outputs": [],
   "source": [
    "svm_classifier = svm.SVC(probability=True)"
   ]
  },
  {
   "cell_type": "code",
   "execution_count": 53,
   "metadata": {},
   "outputs": [
    {
     "data": {
      "text/plain": [
       "SVC(C=1.0, cache_size=200, class_weight=None, coef0=0.0,\n",
       "  decision_function_shape='ovr', degree=3, gamma='auto', kernel='rbf',\n",
       "  max_iter=-1, probability=True, random_state=None, shrinking=True,\n",
       "  tol=0.001, verbose=False)"
      ]
     },
     "execution_count": 53,
     "metadata": {},
     "output_type": "execute_result"
    }
   ],
   "source": [
    "svm_classifier.fit(X_train,y_train)"
   ]
  },
  {
   "cell_type": "code",
   "execution_count": 54,
   "metadata": {},
   "outputs": [
    {
     "data": {
      "text/plain": [
       "0.6833144154370034"
      ]
     },
     "execution_count": 54,
     "metadata": {},
     "output_type": "execute_result"
    }
   ],
   "source": [
    "Predictions_svm = svm_classifier.predict(X_test)\n",
    "Accuracy_SVM = accuracy_score(y_true = y_test, y_pred = Predictions_svm)\n",
    "Accuracy_SVM"
   ]
  },
  {
   "cell_type": "code",
   "execution_count": 55,
   "metadata": {},
   "outputs": [
    {
     "name": "stdout",
     "output_type": "stream",
     "text": [
      "[[ 122 2426]\n",
      " [  85 5296]]\n"
     ]
    }
   ],
   "source": [
    "confusion_matrix(y_test,Predictions_svm)\n",
    "from sklearn import metrics\n",
    "confusion=metrics.confusion_matrix(y_test, Predictions_svm)\n",
    "print(confusion)\n",
    "TP_SVM = confusion[1, 1]\n",
    "TN_SVM = confusion[0, 0]\n",
    "FP_SVM = confusion[0, 1]\n",
    "FN_SVM = confusion[1, 0]\n",
    "#fpr, tpr, thresholds = metrics.roc_curve(y_test,Predictions)"
   ]
  },
  {
   "cell_type": "code",
   "execution_count": 56,
   "metadata": {},
   "outputs": [
    {
     "name": "stdout",
     "output_type": "stream",
     "text": [
      "0.31668558456299656\n",
      "0.5893719806763285\n",
      "0.9842036796134548\n",
      "0.047880690737833596\n"
     ]
    }
   ],
   "source": [
    "#Also known as \"Misclassification Rate\"how often is the classifier incorrect?\n",
    "print(1 - metrics.accuracy_score(y_test, Predictions_svm))\n",
    "#Precision: When a positive value is predicted, how often is the prediction correct?\n",
    "print(metrics.precision_score(y_test, Predictions_svm))\n",
    "precision_SVM = metrics.precision_score(y_test, Predictions_svm)\n",
    "recall_SVM = metrics.recall_score(y_test, Predictions_svm)\n",
    "\n",
    "#Sensitivity: When the actual value is positive, how often is the prediction correct?\n",
    "#Also known as \"True Positive Rate\" or \"Recall\"\n",
    "#Something we want to maximize\n",
    "sensitivity_SVM = TP_SVM / float(FN_SVM + TP_SVM)\n",
    "print(sensitivity_SVM)\n",
    "#Specificity: When the actual value is negative, how often is the prediction correct?\n",
    "\n",
    "#Something we want to maximize\n",
    "#How \"specific\" (or \"selective\") is the classifier in predicting positive instances?\n",
    "#TN / all negative\n",
    "#all negative = TN + FP\n",
    "specificity_SVM = TN_SVM / (TN_SVM + FP_SVM)\n",
    "print(specificity_SVM)\n"
   ]
  },
  {
   "cell_type": "code",
   "execution_count": 58,
   "metadata": {},
   "outputs": [
    {
     "data": {
      "image/png": "[encoded data removed]",
      "text/plain": [
       "<matplotlib.figure.Figure at 0x1f1860e4a20>"
      ]
     },
     "metadata": {},
     "output_type": "display_data"
    }
   ],
   "source": [
    "y_pred_prob = svm_classifier.predict_proba(X_test)[:, 1]\n",
    "\n",
    "fpr, tpr, thresholds = metrics.roc_curve(y_test,y_pred_prob,pos_label=2)\n",
    "\n",
    "plt.plot(fpr, tpr)\n",
    "plt.xlim([0.0, 1.0])\n",
    "plt.ylim([0.0, 1.0])\n",
    "plt.rcParams['font.size'] = 12\n",
    "plt.title('ROC curve ')\n",
    "plt.xlabel('False Positive Rate (1 - Specificity)')\n",
    "plt.ylabel('True Positive Rate (Sensitivity)')\n",
    "plt.grid(True)"
   ]
  },
  {
   "cell_type": "code",
   "execution_count": 59,
   "metadata": {},
   "outputs": [],
   "source": [
    "def evaluate_threshold(threshold):\n",
    "    print('Sensitivity:', tpr[thresholds > threshold][-1])\n",
    "    print('Specificity:', 1 - fpr[thresholds > threshold][-1])"
   ]
  },
  {
   "cell_type": "code",
   "execution_count": 60,
   "metadata": {},
   "outputs": [
    {
     "name": "stdout",
     "output_type": "stream",
     "text": [
      "Sensitivity: 0.8297714179520536\n",
      "Specificity: 0.34576138147566715\n"
     ]
    }
   ],
   "source": [
    "evaluate_threshold(0.65)"
   ]
  },
  {
   "cell_type": "code",
   "execution_count": 61,
   "metadata": {},
   "outputs": [
    {
     "data": {
      "text/plain": [
       "0.602676181939424"
      ]
     },
     "execution_count": 61,
     "metadata": {},
     "output_type": "execute_result"
    }
   ],
   "source": [
    "#loss function\n",
    "from sklearn.metrics import log_loss\n",
    "Loss_SVM = log_loss(y_test,y_pred_prob)\n",
    "Loss_SVM"
   ]
  },
  {
   "cell_type": "markdown",
   "metadata": {},
   "source": [
    "# Implementing usign K Nearest Neighbour(KNN)\n",
    "\n",
    "K-Nearest Neighbors is one of the most basic yet essential classification algorithms in Machine Learning. It belongs to the supervised learning domain and finds intense application in pattern recognition, data mining and intrusion detection.\n",
    "In pattern recognition, the k-nearest neighbors algorithm (k-NN) is a non-parametric method used for classification and regression. In both cases, the input consists of the k closest training examples in the feature space. The output depends on whether k-NN is used for classification or regression:\n",
    "In k-NN classification, the output is a class membership. An object is classified by a majority vote of its neighbors, with the object being assigned to the class most common among its k nearest neighbors (k is a positive integer, typically small). If k = 1, then the object is simply assigned to the class of that single nearest neighbour"
   ]
  },
  {
   "cell_type": "code",
   "execution_count": 62,
   "metadata": {},
   "outputs": [
    {
     "name": "stdout",
     "output_type": "stream",
     "text": [
      "K 3 value Accuracy\n",
      "0.619750283768445\n",
      "K 4 value Accuracy\n",
      "0.5851935931391096\n",
      "K 5 value Accuracy\n",
      "0.6420734014377601\n",
      "K 6 value Accuracy\n",
      "0.6169756589733888\n",
      "K 7 value Accuracy\n",
      "0.651406230293858\n",
      "K 8 value Accuracy\n",
      "0.6298398284777399\n",
      "K 9 value Accuracy\n",
      "0.6587211502080969\n",
      "K 10 value Accuracy\n",
      "0.6433345945264219\n",
      "K 11 value Accuracy\n",
      "0.6590995081346954\n",
      "K 12 value Accuracy\n",
      "0.6468659351746753\n",
      "K 13 value Accuracy\n",
      "0.6620002522386177\n",
      "K 14 value Accuracy\n",
      "0.6498927985874637\n"
     ]
    }
   ],
   "source": [
    "from sklearn import neighbors\n",
    "Accuracy_KNN = []\n",
    "for i in range(3,15):\n",
    "    knn = neighbors.KNeighborsClassifier(n_neighbors=i)\n",
    "    knn.fit(X_train,y_train)\n",
    "    predicted_knn = knn.predict(X_test)\n",
    "    Accuracy = accuracy_score(y_true = y_test, y_pred = predicted_knn)\n",
    "    print(\"K {} value Accuracy\".format(i))\n",
    "    print(Accuracy)\n",
    "    Accuracy_KNN.append(Accuracy)\n"
   ]
  },
  {
   "cell_type": "code",
   "execution_count": 63,
   "metadata": {},
   "outputs": [
    {
     "name": "stdout",
     "output_type": "stream",
     "text": [
      "0.6620002522386177\n",
      "Optimal K value\n",
      "13\n"
     ]
    }
   ],
   "source": [
    "print(max(Accuracy_KNN))\n",
    "temp = np.array(Accuracy_KNN)\n",
    "print(\"Optimal K value\")\n",
    "print(temp.argmax()+3) #since starting from 3 added 3\n",
    "\n",
    "Accuracy_KNN = temp.max()"
   ]
  },
  {
   "cell_type": "code",
   "execution_count": 64,
   "metadata": {},
   "outputs": [
    {
     "name": "stdout",
     "output_type": "stream",
     "text": [
      "[[ 730 1818]\n",
      " [ 958 4423]]\n"
     ]
    }
   ],
   "source": [
    "confusion_matrix(y_test,predicted_knn)\n",
    "from sklearn import metrics\n",
    "confusion=metrics.confusion_matrix(y_test, predicted_knn)\n",
    "print(confusion)\n",
    "TP_KNN = confusion[1, 1]\n",
    "TN_KNN = confusion[0, 0]\n",
    "FP_KNN = confusion[0, 1]\n",
    "FN_KNN = confusion[1, 0]"
   ]
  },
  {
   "cell_type": "code",
   "execution_count": 65,
   "metadata": {},
   "outputs": [
    {
     "name": "stdout",
     "output_type": "stream",
     "text": [
      "0.35010720141253626\n",
      "0.4324644549763033\n",
      "0.28649921507064363\n",
      "0.8219661772904665\n",
      "0.28649921507064363\n",
      "0.7135007849293564\n"
     ]
    }
   ],
   "source": [
    "#Also known as \"Misclassification Rate\"how often is the classifier incorrect?\n",
    "print(1 - metrics.accuracy_score(y_test, predicted_knn))\n",
    "#Precision: When a positive value is predicted, how often is the prediction correct?\n",
    "print(metrics.precision_score(y_test, predicted_knn))\n",
    "precision_KNN = metrics.precision_score(y_test, predicted_knn)\n",
    "recall_KNN = metrics.recall_score(y_test, predicted_knn)\n",
    "#Sensitivity: When the actual value is positive, how often is the prediction correct?\n",
    "#Also known as \"True Positive Rate\" or \"Recall\"\n",
    "#Something we want to maximize\n",
    "print(metrics.recall_score(y_test,predicted_knn))\n",
    "#Specificity: When the actual value is negative, how often is the prediction correct?\n",
    "sensitivity_KNN = TP_KNN / float(FN_KNN + TP_KNN)\n",
    "print(sensitivity_KNN)\n",
    "\n",
    "\n",
    "#Something we want to maximize\n",
    "#How \"specific\" (or \"selective\") is the classifier in predicting positive instances?\n",
    "#TN / all negative\n",
    "#all negative = TN + FP\n",
    "specificity_KNN = TN_KNN / (TN_KNN + FP_KNN)\n",
    "print(specificity_KNN)\n",
    "#False Positive Rate: When the actual value is negative, how often is the prediction incorrect?\n",
    "print(1 - specificity_KNN)"
   ]
  },
  {
   "cell_type": "code",
   "execution_count": 66,
   "metadata": {},
   "outputs": [
    {
     "data": {
      "text/plain": [
       "array([[0.28571429, 0.71428571],\n",
       "       [0.21428571, 0.78571429],\n",
       "       [0.42857143, 0.57142857],\n",
       "       [0.21428571, 0.78571429],\n",
       "       [0.5       , 0.5       ],\n",
       "       [0.        , 1.        ],\n",
       "       [0.28571429, 0.71428571],\n",
       "       [0.5       , 0.5       ],\n",
       "       [0.71428571, 0.28571429],\n",
       "       [0.14285714, 0.85714286]])"
      ]
     },
     "execution_count": 66,
     "metadata": {},
     "output_type": "execute_result"
    }
   ],
   "source": [
    "knn.predict_proba(X_test)[0:10]"
   ]
  },
  {
   "cell_type": "code",
   "execution_count": 67,
   "metadata": {},
   "outputs": [
    {
     "name": "stdout",
     "output_type": "stream",
     "text": [
      "0.6575018176579503\n"
     ]
    }
   ],
   "source": [
    "scores = cross_validation.cross_val_score(knn, x_New, y, cv=5).mean()\n",
    "print (scores)"
   ]
  },
  {
   "cell_type": "code",
   "execution_count": 68,
   "metadata": {},
   "outputs": [],
   "source": [
    "#from sklearn.preprocessing import label_binarize \n",
    "#y = binarize(predicted_knn, 0.3)\n",
    "#n_classes = y.reshape(-1, 1)\n",
    "y_pred_prob = knn.predict_proba(X_test)[:, 1]\n",
    "#y = label_binarize(predicted_knn, classes=[0, 1])\n",
    "#n_classes = y.shape[1]\n",
    "\n",
    "#y_pred_class = binarize(y_pred_prob, 0.3)\n",
    "fpr, tpr, thresholds = metrics.roc_curve(y_test,y_pred_prob,pos_label=2)"
   ]
  },
  {
   "cell_type": "code",
   "execution_count": 69,
   "metadata": {},
   "outputs": [
    {
     "data": {
      "image/png": "[encoded data removed]",
      "text/plain": [
       "<matplotlib.figure.Figure at 0x1f1860e4048>"
      ]
     },
     "metadata": {},
     "output_type": "display_data"
    }
   ],
   "source": [
    "plt.plot(fpr, tpr)\n",
    "plt.xlim([0.0, 1.0])\n",
    "plt.ylim([0.0, 1.0])\n",
    "plt.rcParams['font.size'] = 12\n",
    "plt.title('ROC curve ')\n",
    "plt.xlabel('False Positive Rate (1 - Specificity)')\n",
    "plt.ylabel('True Positive Rate (Sensitivity)')\n",
    "plt.grid(True)\n",
    "plt.show()"
   ]
  },
  {
   "cell_type": "code",
   "execution_count": 70,
   "metadata": {},
   "outputs": [],
   "source": [
    "def evaluate_threshold(threshold):\n",
    "    print('Sensitivity:', tpr[thresholds > threshold][-1])\n",
    "    print('Specificity:', 1 - fpr[thresholds > threshold][-1])"
   ]
  },
  {
   "cell_type": "code",
   "execution_count": 71,
   "metadata": {},
   "outputs": [
    {
     "name": "stdout",
     "output_type": "stream",
     "text": [
      "Sensitivity: 0.5463668463110946\n",
      "Specificity: 0.6102825745682888\n"
     ]
    }
   ],
   "source": [
    "evaluate_threshold(0.65)"
   ]
  },
  {
   "cell_type": "code",
   "execution_count": 73,
   "metadata": {},
   "outputs": [
    {
     "data": {
      "text/plain": [
       "0.751654758558444"
      ]
     },
     "execution_count": 73,
     "metadata": {},
     "output_type": "execute_result"
    }
   ],
   "source": [
    "#loss function\n",
    "from sklearn.metrics import log_loss\n",
    "Loss_KNN = log_loss(y_test,y_pred_prob)\n",
    "Loss_KNN"
   ]
  },
  {
   "cell_type": "markdown",
   "metadata": {},
   "source": [
    "## DEPLOYMENT\n",
    "Support vectors machine, K-nearest neighbor and decision tree models are used  to obtain results. We would like to validate our test observations with the Domain experts and gets feedbacks to improve the models. During this process benefits and the risks are taken into account and cost matrix is calculatesd for every model to calculate business cost. Different models are compared  and tested to find the correct model for the data. Holdout data with 5K cross validation is used to test the model.The Output we get is used to compare with the target output provided to know the actual performance of the Model.And models peformance is tested using various visualisation techniques.  \n",
    "\n"
   ]
  },
  {
   "cell_type": "markdown",
   "metadata": {},
   "source": [
    "## RESULTS\n",
    "\n",
    "### Comparing the models based on following factors\n",
    "Accuracy , Loss , True Positive , False Positive , True Negative , False Negative , Sensitivity , Precision and Recall \n"
   ]
  },
  {
   "cell_type": "code",
   "execution_count": 76,
   "metadata": {},
   "outputs": [
    {
     "data": {
      "text/html": [
       "<div>\n",
       "<style scoped>\n",
       "    .dataframe tbody tr th:only-of-type {\n",
       "        vertical-align: middle;\n",
       "    }\n",
       "\n",
       "    .dataframe tbody tr th {\n",
       "        vertical-align: top;\n",
       "    }\n",
       "\n",
       "    .dataframe thead th {\n",
       "        text-align: right;\n",
       "    }\n",
       "</style>\n",
       "<table border=\"1\" class=\"dataframe\">\n",
       "  <thead>\n",
       "    <tr style=\"text-align: right;\">\n",
       "      <th></th>\n",
       "      <th>Model</th>\n",
       "      <th>Accuracy</th>\n",
       "      <th>Loss</th>\n",
       "      <th>TP</th>\n",
       "      <th>FP</th>\n",
       "      <th>TN</th>\n",
       "      <th>FN</th>\n",
       "      <th>Sensitivity</th>\n",
       "      <th>Specificity</th>\n",
       "      <th>Precision</th>\n",
       "      <th>Recall</th>\n",
       "    </tr>\n",
       "  </thead>\n",
       "  <tbody>\n",
       "    <tr>\n",
       "      <th>0</th>\n",
       "      <td>Decision Tree</td>\n",
       "      <td>0.674991</td>\n",
       "      <td>0.589447</td>\n",
       "      <td>4756</td>\n",
       "      <td>1952</td>\n",
       "      <td>596</td>\n",
       "      <td>625</td>\n",
       "      <td>0.883851</td>\n",
       "      <td>0.233909</td>\n",
       "      <td>0.488124</td>\n",
       "      <td>0.233909</td>\n",
       "    </tr>\n",
       "    <tr>\n",
       "      <th>1</th>\n",
       "      <td>SVM</td>\n",
       "      <td>0.683314</td>\n",
       "      <td>0.602676</td>\n",
       "      <td>5296</td>\n",
       "      <td>2426</td>\n",
       "      <td>122</td>\n",
       "      <td>85</td>\n",
       "      <td>0.984204</td>\n",
       "      <td>0.047881</td>\n",
       "      <td>0.589372</td>\n",
       "      <td>0.047881</td>\n",
       "    </tr>\n",
       "    <tr>\n",
       "      <th>2</th>\n",
       "      <td>KNN</td>\n",
       "      <td>0.662000</td>\n",
       "      <td>0.751655</td>\n",
       "      <td>4423</td>\n",
       "      <td>1818</td>\n",
       "      <td>730</td>\n",
       "      <td>958</td>\n",
       "      <td>0.821966</td>\n",
       "      <td>0.286499</td>\n",
       "      <td>0.432464</td>\n",
       "      <td>0.286499</td>\n",
       "    </tr>\n",
       "  </tbody>\n",
       "</table>\n",
       "</div>"
      ],
      "text/plain": [
       "           Model  Accuracy      Loss    TP    FP   TN   FN  Sensitivity  \\\n",
       "0  Decision Tree  0.674991  0.589447  4756  1952  596  625     0.883851   \n",
       "1            SVM  0.683314  0.602676  5296  2426  122   85     0.984204   \n",
       "2            KNN  0.662000  0.751655  4423  1818  730  958     0.821966   \n",
       "\n",
       "   Specificity  Precision    Recall  \n",
       "0     0.233909   0.488124  0.233909  \n",
       "1     0.047881   0.589372  0.047881  \n",
       "2     0.286499   0.432464  0.286499  "
      ]
     },
     "execution_count": 76,
     "metadata": {},
     "output_type": "execute_result"
    }
   ],
   "source": [
    "resultdf = pd.DataFrame(columns=[\"Model\",\"Accuracy\",\"Loss\",\"TP\",\"FP\",\"TN\",\"FN\",\"Sensitivity\",\"Specificity\",\"Precision\",\"Recall\"])\n",
    "resultdf.loc[0] = [\"Decision Tree\", Accuracy_DT,Loss_DT,TP_DT,FP_DT,TN_DT,FN_DT,sensitivity_DT, specificity_DT,precision_DT,recall_DT]\n",
    "resultdf.loc[1] = [\"SVM\", Accuracy_SVM, Loss_SVM, TP_SVM,FP_SVM,TN_SVM,FN_SVM,sensitivity_SVM, specificity_SVM,precision_SVM,recall_SVM]\n",
    "resultdf.loc[2] = [\"KNN\", Accuracy_KNN,Loss_KNN, TP_KNN,FP_KNN,TN_KNN,FN_KNN, sensitivity_KNN,specificity_KNN,precision_KNN,recall_KNN]\n",
    "resultdf"
   ]
  },
  {
   "cell_type": "markdown",
   "metadata": {},
   "source": [
    "## CONCLUSION"
   ]
  },
  {
   "cell_type": "markdown",
   "metadata": {},
   "source": [
    "With the aim to predict the popularity of a news on the various factors we build models based on three different supervised classification techniques \n",
    "- Decision Tree\n",
    "- Support Vector Machine\n",
    "- K-Nearest Neighbor\n",
    "\n",
    "As we can observe through the results, The Support Vector Machine has performed better as compared to Decision Tree and K-Nearest Neighbor in accuracy, sensitivity and Precision\n",
    "\n",
    "From the available 61 attributes we identified 21 based on domain knowledge and the recursive feature elimination(RFE) model. \n",
    "Some of the key factors that contribute towards news popularity are  \n",
    "- Was the article published on the weekend?\n",
    "- Is data channel 'Entertainment'?\n",
    "- Is data channel 'Tech'?\n",
    "- The Pictures, Videos, rate of Positive words and rate of negative words in article.\n",
    "\n",
    "The SVM model that we have built gives **68%** accuracy on the testing data.\n",
    "Thus, we have built a model that can predict if the News will become popular based on the given features of the news. \n"
   ]
  },
  {
   "cell_type": "code",
   "execution_count": null,
   "metadata": {},
   "outputs": [],
   "source": []
  }
 ],
 "metadata": {
  "kernelspec": {
   "display_name": "Python 3",
   "language": "python",
   "name": "python3"
  },
  "language_info": {
   "codemirror_mode": {
    "name": "ipython",
    "version": 3
   },
   "file_extension": ".py",
   "mimetype": "text/x-python",
   "name": "python",
   "nbconvert_exporter": "python",
   "pygments_lexer": "ipython3",
   "version": "3.6.4"
  }
 },
 "nbformat": 4,
 "nbformat_minor": 2
}
